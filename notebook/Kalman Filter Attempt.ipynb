{
 "cells": [
  {
   "cell_type": "code",
   "execution_count": 3,
   "id": "f31e61b4",
   "metadata": {},
   "outputs": [],
   "source": [
    "from DataUtils import DataInterface\n",
    "import numpy as np;\n",
    "import matplotlib.pyplot as plt;\n",
    "from mpl_toolkits import mplot3d;\n",
    "\n",
    "%matplotlib inline"
   ]
  },
  {
   "cell_type": "code",
   "execution_count": 4,
   "id": "4544dfd7",
   "metadata": {},
   "outputs": [],
   "source": [
    "class SensorReader:\n",
    "    def __init__(self, radiusOfEarth, encoder_resolution, encoder_diameterL, encoder_diameterR):\n",
    "        self.data_interface = DataInterface(\n",
    "            \"/home/an/workspace/Classes/Spring 2022/CS-179/Project/urban16/sensor_data/gps.csv\",\n",
    "            \"/home/an/workspace/Classes/Spring 2022/CS-179/Project/urban16/sensor_data/xsens_imu.csv\",\n",
    "            \"/home/an/workspace/Classes/Spring 2022/CS-179/Project/urban16/sensor_data/encoder.csv\"\n",
    "        )\n",
    "        # data -> (lon,lat,alt,left,right,yaw,pitch,roll)\n",
    "        self.R = radiusOfEarth\n",
    "        self.res = encoder_resolution\n",
    "        self.angle_to_rad = np.pi/180\n",
    "        self.enc_radL = encoder_diameterL / 2\n",
    "        self.enc_radR = encoder_diameterR / 2\n",
    "        \n",
    "        self.init_data = self.parse(self.data_interface.read())\n",
    "        self.meas = self.init_data.copy()\n",
    "        self.meas[0:5] = 0 #re-init\n",
    "        \n",
    "    def parse(self, data):\n",
    "        gps = data['gps_data']\n",
    "        imu = data['imu_data']\n",
    "        enc = data['encoders_data']\n",
    "        lat,lon,alt = gps[1:4]\n",
    "        pitch, roll, yaw = imu[5:8]\n",
    "        left,right = enc[1:3]\n",
    "        \n",
    "        lat = lat*np.pi/180*R\n",
    "        lon = lon*np.pi/180*R\n",
    "        left = left * 2*np.pi/self.res * self.enc_radL\n",
    "        right = right * 2*np.pi/self.res * self.enc_radR\n",
    "        \n",
    "        #pitch = pitch * np.pi / 180\n",
    "        #yaw = yaw * np.pi / 180\n",
    "        #roll = roll * np.pi / 180\n",
    "        return np.array([[lon,lat,alt,left,right,yaw,pitch,roll]]).T\n",
    "    def read(self):\n",
    "        self.meas = self.parse(self.data_interface.read())\n",
    "        self.meas[0:5] -= self.init_data[0:5]\n",
    "        return self.meas"
   ]
  },
  {
   "cell_type": "code",
   "execution_count": 13,
   "id": "f1d55c8b",
   "metadata": {},
   "outputs": [],
   "source": [
    "class KalmanFilter:\n",
    "    def __init__(self, A,C,Q,R, init0):\n",
    "        self.A = A\n",
    "        self.C = C\n",
    "        self.Q = Q\n",
    "        self.R = R\n",
    "        \n",
    "        self.mu = init0\n",
    "        self.cov = np.eye(3)\n",
    "        self.Kt = np.eye(3)\n",
    "    def predict(self):\n",
    "        self.mu_pred = self.A @ self.mu\n",
    "        self.cov_pred = self.A @ self.cov @ self.A.T + self.R\n",
    "        self.Kt = self.cov_pred @ self.C.T @ np.linalg.inv(self.C @ self.cov_pred @ self.C.T + self.Q)\n",
    "    def correct(self, meas):\n",
    "        self.mu = self.mu_pred + self.Kt @ (meas - self.C @ self.mu_pred)\n",
    "        self.cov = (np.eye(3) - self.Kt@self.C) @ self.cov_pred"
   ]
  },
  {
   "cell_type": "code",
   "execution_count": 23,
   "id": "aa319296",
   "metadata": {},
   "outputs": [],
   "source": [
    "A = np.eye(3)\n",
    "Q = np.eye(3)\n",
    "R_ = np.eye(3)\n",
    "C = np.eye(3)\n",
    "\n",
    "\n",
    "R = 6_371_000 #earth's radius in meters\n",
    "encDiamL = 0.623022\n",
    "encDiamR = 0.622356\n",
    "res = 4096\n",
    "wheelbase = 1.5285\n",
    "\n",
    "sensors = SensorReader(R, res, encDiamL, encDiamR)\n",
    "\n",
    "init0 = sensors.read()"
   ]
  },
  {
   "cell_type": "code",
   "execution_count": 24,
   "id": "57ed2217",
   "metadata": {},
   "outputs": [
    {
     "name": "stdout",
     "output_type": "stream",
     "text": [
      "[[ 0.03335848]\n",
      " [-0.04447797]\n",
      " [ 0.062     ]]\n"
     ]
    }
   ],
   "source": [
    "print(init0[:3,:])"
   ]
  },
  {
   "cell_type": "code",
   "execution_count": 25,
   "id": "eca1c7b4",
   "metadata": {},
   "outputs": [],
   "source": [
    "kal = KalmanFilter(A,C,Q,R_,init0[:3,:])"
   ]
  },
  {
   "cell_type": "code",
   "execution_count": 26,
   "id": "92bd4f82",
   "metadata": {},
   "outputs": [],
   "source": [
    "data = np.array([[0,0,0]]).T\n",
    "sensor_data = np.array([[0,0,0]]).T\n",
    "for i in range(5_000):\n",
    "    reading = sensors.read()\n",
    "    kal.predict()\n",
    "    kal.correct(reading[:3,:])\n",
    "    data = np.hstack((data,kal.mu))\n",
    "    sensor_data = np.hstack((sensor_data, reading[:3,:]))"
   ]
  },
  {
   "cell_type": "code",
   "execution_count": 27,
   "id": "2b320e95",
   "metadata": {},
   "outputs": [
    {
     "data": {
      "image/png": "[encoded data removed]",
      "text/plain": [
       "<Figure size 432x288 with 1 Axes>"
      ]
     },
     "metadata": {
      "needs_background": "light"
     },
     "output_type": "display_data"
    }
   ],
   "source": [
    "plt.scatter(data[0,:], data[1,:],c='red')\n",
    "plt.show()"
   ]
  },
  {
   "cell_type": "code",
   "execution_count": 38,
   "id": "90bc2360",
   "metadata": {},
   "outputs": [],
   "source": [
    "sensors = SensorReader(R, res, encDiamL, encDiamR)"
   ]
  },
  {
   "cell_type": "code",
   "execution_count": 39,
   "id": "5c9eb50b",
   "metadata": {},
   "outputs": [],
   "source": [
    "sensor_data = init0[5:8,:]\n",
    "for i in range(5_000):\n",
    "    reading = sensors.read()\n",
    "    sensor_data = np.hstack((sensor_data, reading[5:8,:]))"
   ]
  },
  {
   "cell_type": "code",
   "execution_count": 40,
   "id": "f8f3e8f3",
   "metadata": {},
   "outputs": [
    {
     "data": {
      "image/png": "[encoded data removed]",
      "text/plain": [
       "<Figure size 432x288 with 1 Axes>"
      ]
     },
     "metadata": {
      "needs_background": "light"
     },
     "output_type": "display_data"
    }
   ],
   "source": [
    "plt.scatter(np.arange(data[0,:].shape[0]), data[0,:],c='red')\n",
    "plt.show()"
   ]
  },
  {
   "cell_type": "code",
   "execution_count": 44,
   "id": "b6fe1b0d",
   "metadata": {},
   "outputs": [
    {
     "data": {
      "text/plain": [
       "array([0., 0., 0.])"
      ]
     },
     "execution_count": 44,
     "metadata": {},
     "output_type": "execute_result"
    }
   ],
   "source": [
    "data[:,0]"
   ]
  },
  {
   "cell_type": "code",
   "execution_count": 46,
   "id": "f928f219",
   "metadata": {},
   "outputs": [
    {
     "name": "stdout",
     "output_type": "stream",
     "text": [
      "[[ 1.11550750e+02]\n",
      " [ 8.31849246e+01]\n",
      " [ 1.54800000e+00]\n",
      " [ 2.55600347e+03]\n",
      " [ 2.54968775e+03]\n",
      " [-2.43579040e-01]\n",
      " [ 7.23644718e-02]\n",
      " [ 1.51049139e-02]]\n"
     ]
    }
   ],
   "source": [
    "a = sensors.read()\n",
    "print(a)"
   ]
  },
  {
   "cell_type": "code",
   "execution_count": 47,
   "id": "bbc9797e",
   "metadata": {},
   "outputs": [
    {
     "data": {
      "text/plain": [
       "array([[-0.24357904],\n",
       "       [ 0.07236447],\n",
       "       [ 0.01510491]])"
      ]
     },
     "execution_count": 47,
     "metadata": {},
     "output_type": "execute_result"
    }
   ],
   "source": [
    "a[5:8,:]"
   ]
  },
  {
   "cell_type": "code",
   "execution_count": 65,
   "id": "03984ac0",
   "metadata": {},
   "outputs": [
    {
     "data": {
      "text/plain": [
       "array([ 0.30338931, -0.38597027,  0.43686579])"
      ]
     },
     "execution_count": 65,
     "metadata": {},
     "output_type": "execute_result"
    }
   ],
   "source": [
    "data[:,10]"
   ]
  },
  {
   "cell_type": "code",
   "execution_count": null,
   "id": "61a42d90",
   "metadata": {},
   "outputs": [],
   "source": []
  }
 ],
 "metadata": {
  "kernelspec": {
   "display_name": "Python 3 (ipykernel)",
   "language": "python",
   "name": "python3"
  },
  "language_info": {
   "codemirror_mode": {
    "name": "ipython",
    "version": 3
   },
   "file_extension": ".py",
   "mimetype": "text/x-python",
   "name": "python",
   "nbconvert_exporter": "python",
   "pygments_lexer": "ipython3",
   "version": "3.8.10"
  }
 },
 "nbformat": 4,
 "nbformat_minor": 5
}
