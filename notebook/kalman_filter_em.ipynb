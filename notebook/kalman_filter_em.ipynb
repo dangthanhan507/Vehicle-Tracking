{
 "cells": [
  {
   "cell_type": "code",
   "execution_count": 1,
   "metadata": {
    "collapsed": true
   },
   "outputs": [],
   "source": [
    "import numpy as np\n",
    "from matplotlib import pyplot as plt\n",
    "import DataUtils as data"
   ]
  },
  {
   "cell_type": "code",
   "execution_count": null,
   "outputs": [],
   "source": [
    "# TODO: Use EM to re-estimate the A matrix"
   ],
   "metadata": {
    "collapsed": false,
    "pycharm": {
     "name": "#%%\n"
    }
   }
  },
  {
   "cell_type": "code",
   "execution_count": 2,
   "outputs": [],
   "source": [
    "class KalmanFilter():\n",
    "    \"\"\"\n",
    "    Initialization:\n",
    "    1. Initialize state of the filter\n",
    "    2. Initialize belief of the state\n",
    "\n",
    "    Predict:\n",
    "    1. Use process model to predict state at the next time step\n",
    "    2. Adjust belief to account for hte uncertainty in prediction\n",
    "\n",
    "    Update:\n",
    "    1. Get a measurement & associated belief about its accuracy\n",
    "    2. Compute residual between estimated state & measurement\n",
    "    3. Compute scaling factor absed on whether the measurement or prediction\n",
    "    is more accurate\n",
    "    4. Set state between prediction & measurement based on scaling factor\n",
    "    5. Update belief in the state based on how certain we are in the measurement\n",
    "    \"\"\"\n",
    "    def __init__(self, prior, A, C, Q):\n",
    "        '''\n",
    "\n",
    "        '''\n",
    "        self.prior = prior\n",
    "        self.A = A\n",
    "        self.C = C\n",
    "\n",
    "        self.Q = Q # system cov\n",
    "\n",
    "        self.mean = prior\n",
    "        temp = np.random.rand(3)\n",
    "        self.cov = np.diag(temp)\n",
    "\n",
    "        self.Kalman_gain = None\n",
    "        self.mean_predict = None\n",
    "        self.cov_predict = None\n",
    "\n",
    "    def predict(self, R):\n",
    "        self.mean_predict = self.A @ self.prior\n",
    "        self.cov_predict = self.A @ self.cov @ self.A.T + R\n",
    "\n",
    "        self.Kalman_gain = self.cov_predict @ self.C.T @ np.linalg.inv( self.C @ self.cov_predict @ self.C.T + self.Q )\n",
    "\n",
    "    def update(self, measurement):\n",
    "        shape = self.Kalman_gain.shape[0]\n",
    "        self.mean = self.mean_predict + self.Kalman_gain @ (measurement.reshape(shape,1) - (self.C @ self.mean_predict))\n",
    "        self.cov = (np.eye(shape,dtype=float) - self.Kalman_gain @ self.C) @ self.cov_predict\n",
    "\n",
    "    def curr_state(self):\n",
    "        return self.mean, self.cov\n",
    "\n",
    "    def get_predictions(self, measurements):\n",
    "        shape = self.cov.shape[0]\n",
    "\n",
    "        states = np.zeros(shape=(shape, measurements.shape[1]),dtype=float)\n",
    "        states[:,0] = self.prior.reshape(-1)\n",
    "        for i in range(1,measurements.shape[1]):\n",
    "            self.predict()\n",
    "            self.update( measurements[:,i] )\n",
    "            states[:,i] = self.currState()[0].reshape(-1)\n",
    "\n",
    "        return states"
   ],
   "metadata": {
    "collapsed": false,
    "pycharm": {
     "name": "#%%\n"
    }
   }
  },
  {
   "cell_type": "code",
   "execution_count": 3,
   "outputs": [],
   "source": [
    "# Load Data\n",
    "data_interface = data.DataInterface(\n",
    "    \"/home/jay/Documents/urban16/sensor_data/gps.csv\",\n",
    "    \"/home/jay/Documents/urban16/sensor_data/xsens_imu.csv\",\n",
    "    \"/home/jay/Documents/urban16/sensor_data/encoder.csv\"\n",
    ")"
   ],
   "metadata": {
    "collapsed": false,
    "pycharm": {
     "name": "#%%\n"
    }
   }
  },
  {
   "cell_type": "code",
   "execution_count": 10,
   "outputs": [],
   "source": [
    "data_interface.reset()"
   ],
   "metadata": {
    "collapsed": false,
    "pycharm": {
     "name": "#%%\n"
    }
   }
  },
  {
   "cell_type": "code",
   "execution_count": 11,
   "outputs": [
    {
     "name": "stdout",
     "output_type": "stream",
     "text": [
      "[1.52420509e+18 3.75250452e+01 1.26918911e+02 3.68320000e+01\n",
      " 3.75646410e+01 0.00000000e+00 0.00000000e+00 0.00000000e+00\n",
      " 3.75646410e+01 0.00000000e+00 0.00000000e+00 0.00000000e+00\n",
      " 3.19112010e+01]\n",
      "37.5250452 126.9189115 36.832 \n",
      " [[37.564641  0.        0.      ]\n",
      " [ 0.       37.564641  0.      ]\n",
      " [ 0.        0.       31.911201]]\n"
     ]
    }
   ],
   "source": [
    "# Create Kalman Filter\n",
    "snapshot = data_interface.read()\n",
    "gps_data = snapshot[\"gps_data\"]\n",
    "lon, lat, alt = gps_data[1], gps_data[2], gps_data[3]\n",
    "R = gps_data[4:].reshape((3,3))\n",
    "print(gps_data)\n",
    "print(lon, lat, alt, \"\\n\", R)"
   ],
   "metadata": {
    "collapsed": false,
    "pycharm": {
     "name": "#%%\n"
    }
   }
  },
  {
   "cell_type": "code",
   "execution_count": 12,
   "outputs": [],
   "source": [
    "radius = 6371\n",
    "prior = np.array([[lon, lat, alt]]).T\n",
    "C = np.eye(3)\n",
    "C[0, 1] = 1/(radius * np.cos(np.radians(lat)))\n",
    "C[1, 1] = 1/radius\n",
    "Q = np.eye(3)\n",
    "kf = KalmanFilter(prior, np.eye(3), C, Q)"
   ],
   "metadata": {
    "collapsed": false,
    "pycharm": {
     "name": "#%%\n"
    }
   }
  },
  {
   "cell_type": "code",
   "execution_count": 13,
   "outputs": [],
   "source": [
    "timestamp = gps_data[0]\n",
    "mean_arr = []\n",
    "cov_arr = []\n",
    "\n",
    "for t in range(1000):\n",
    "    gps_snapshot = data_interface.read()[\"gps_data\"]\n",
    "    R = gps_snapshot[4:].reshape((3,3))\n",
    "    kf.predict(R)\n",
    "    kf.update(gps_snapshot[1:4])\n",
    "    m, c = kf.curr_state()\n",
    "    mean_arr.append(m)\n",
    "    cov_arr.append(c)\n",
    "mean_arr = np.array(mean_arr)\n",
    "cov_arr = np.array(cov_arr)"
   ],
   "metadata": {
    "collapsed": false,
    "pycharm": {
     "name": "#%%\n"
    }
   }
  },
  {
   "cell_type": "code",
   "execution_count": 14,
   "outputs": [
    {
     "data": {
      "text/plain": "array([[ 37.55754157],\n       [127.66935897],\n       [ 36.89214531]])"
     },
     "execution_count": 14,
     "metadata": {},
     "output_type": "execute_result"
    }
   ],
   "source": [
    "mean_arr[0]"
   ],
   "metadata": {
    "collapsed": false,
    "pycharm": {
     "name": "#%%\n"
    }
   }
  },
  {
   "cell_type": "code",
   "execution_count": 15,
   "outputs": [
    {
     "data": {
      "text/plain": "array([[9.74110424e-01, 9.59020652e-03, 0.00000000e+00],\n       [9.59020652e-03, 3.76768538e+01, 0.00000000e+00],\n       [0.00000000e+00, 0.00000000e+00, 9.70085696e-01]])"
     },
     "execution_count": 15,
     "metadata": {},
     "output_type": "execute_result"
    }
   ],
   "source": [
    "cov_arr[0]"
   ],
   "metadata": {
    "collapsed": false,
    "pycharm": {
     "name": "#%%\n"
    }
   }
  },
  {
   "cell_type": "code",
   "execution_count": 18,
   "outputs": [
    {
     "data": {
      "text/plain": "(1000, 3, 1)"
     },
     "execution_count": 18,
     "metadata": {},
     "output_type": "execute_result"
    }
   ],
   "source": [
    "mean_arr.shape"
   ],
   "metadata": {
    "collapsed": false,
    "pycharm": {
     "name": "#%%\n"
    }
   }
  },
  {
   "cell_type": "code",
   "execution_count": 32,
   "outputs": [
    {
     "data": {
      "text/plain": "<Figure size 1080x1080 with 1 Axes>",
      "image/png": "[encoded data removed]"
     },
     "metadata": {
      "needs_background": "light"
     },
     "output_type": "display_data"
    }
   ],
   "source": [
    "fig = plt.figure(figsize=(15, 15))\n",
    "# axis1 = plt.axes(projection=\"3d\")\n",
    "# axis2 = plt.axes()\n",
    "\n",
    "\n",
    "for i in mean_arr:\n",
    "    converted_pts = C.T @ i\n",
    "    # print(converted_pts)\n",
    "    # axis.plot(converted_pts[0], converted_pts[1], converted_pts[2])\n",
    "    # print(i)\n",
    "    # axis1.scatter(converted_pts[0], converted_pts[1], converted_pts[2])\n",
    "    plt.scatter(converted_pts[0], converted_pts[1])"
   ],
   "metadata": {
    "collapsed": false,
    "pycharm": {
     "name": "#%%\n"
    }
   }
  }
 ],
 "metadata": {
  "kernelspec": {
   "display_name": "Python 3",
   "language": "python",
   "name": "python3"
  },
  "language_info": {
   "codemirror_mode": {
    "name": "ipython",
    "version": 2
   },
   "file_extension": ".py",
   "mimetype": "text/x-python",
   "name": "python",
   "nbconvert_exporter": "python",
   "pygments_lexer": "ipython2",
   "version": "2.7.6"
  }
 },
 "nbformat": 4,
 "nbformat_minor": 0
}