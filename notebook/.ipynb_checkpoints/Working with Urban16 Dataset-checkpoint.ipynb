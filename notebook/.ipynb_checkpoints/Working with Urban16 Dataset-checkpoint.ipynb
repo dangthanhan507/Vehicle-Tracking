{
 "cells": [
  {
   "cell_type": "code",
   "execution_count": 1,
   "id": "bf53c741",
   "metadata": {},
   "outputs": [],
   "source": [
    "import numpy as np;\n",
    "import matplotlib.pyplot as plt;\n",
    "%matplotlib inline"
   ]
  },
  {
   "cell_type": "markdown",
   "id": "0293fcb2",
   "metadata": {},
   "source": [
    "# Working with Urban16 Dataset"
   ]
  },
  {
   "cell_type": "markdown",
   "id": "62eec80a",
   "metadata": {},
   "source": [
    "### reading Ground Truth"
   ]
  },
  {
   "cell_type": "code",
   "execution_count": 4,
   "id": "e54af650",
   "metadata": {},
   "outputs": [],
   "source": [
    "vehicle_pose = np.genfromtxt('../urban16/global_pose.csv', delimiter=',');"
   ]
  },
  {
   "cell_type": "markdown",
   "id": "0d7252ed",
   "metadata": {},
   "source": [
    "The $P$ matrix represented in the global_pose.csv is a 3x4 matrix that represents the transform of the vehicle from the global coordinate system. <br><br>\n",
    "\n",
    "$$P = \\begin{bmatrix} r_{1,1} & r_{1,2} & r_{1,3} & t_x \\\\\n",
    "                      r_{2,1} & r_{2,2} & r_{2,3} & t_y \\\\\n",
    "                      r_{3,1} & r_{3,2} & r_{3,3} & t_z \\end{bmatrix}$$ <br><br>\n",
    "$r$ represents the 3d rotation matrix while the $t$ vector represents the translation vector <br>"
   ]
  },
  {
   "cell_type": "code",
   "execution_count": 9,
   "id": "228afa2a",
   "metadata": {},
   "outputs": [
    {
     "name": "stdout",
     "output_type": "stream",
     "text": [
      "[ 1.52420513e+18 -7.99652676e-01  6.00397446e-01 -8.86030071e-03\n",
      "  3.16097936e+05 -6.00401636e-01 -7.99694785e-01 -2.47526487e-03\n",
      "  4.15514564e+06 -8.57167898e-03  3.34038687e-03  9.99957683e-01\n",
      "  1.60974129e+01]\n"
     ]
    }
   ],
   "source": [
    "#vehicle_pose is HUGE\n",
    "first_pose = vehicle_pose[0,:]\n",
    "print(first_pose)"
   ]
  },
  {
   "cell_type": "code",
   "execution_count": null,
   "id": "aa2aed1e",
   "metadata": {},
   "outputs": [],
   "source": [
    "def draw_pose()"
   ]
  }
 ],
 "metadata": {
  "kernelspec": {
   "display_name": "Python 3 (ipykernel)",
   "language": "python",
   "name": "python3"
  },
  "language_info": {
   "codemirror_mode": {
    "name": "ipython",
    "version": 3
   },
   "file_extension": ".py",
   "mimetype": "text/x-python",
   "name": "python",
   "nbconvert_exporter": "python",
   "pygments_lexer": "ipython3",
   "version": "3.8.10"
  }
 },
 "nbformat": 4,
 "nbformat_minor": 5
}
