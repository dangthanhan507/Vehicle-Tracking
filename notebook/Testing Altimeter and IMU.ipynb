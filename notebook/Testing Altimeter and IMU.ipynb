{
 "cells": [
  {
   "cell_type": "code",
   "execution_count": 3,
   "id": "d02ba734-0c37-4b5d-b8d4-63b0d4f49e81",
   "metadata": {},
   "outputs": [],
   "source": [
    "import pandas as pd\n",
    "import numpy as np;\n",
    "import matplotlib.pyplot as plt;\n",
    "%matplotlib inline"
   ]
  },
  {
   "cell_type": "code",
   "execution_count": 21,
   "id": "9fc4d75c-64d8-41a2-b555-56ff488fd98d",
   "metadata": {},
   "outputs": [],
   "source": [
    "altimeter = pd.read_csv('urban16/sensor_data/altimeter.csv')"
   ]
  },
  {
   "cell_type": "code",
   "execution_count": 22,
   "id": "4063de80-0c58-40fe-8aca-a7c8e61a15c7",
   "metadata": {},
   "outputs": [
    {
     "data": {
      "text/html": [
       "<div>\n",
       "<style scoped>\n",
       "    .dataframe tbody tr th:only-of-type {\n",
       "        vertical-align: middle;\n",
       "    }\n",
       "\n",
       "    .dataframe tbody tr th {\n",
       "        vertical-align: top;\n",
       "    }\n",
       "\n",
       "    .dataframe thead th {\n",
       "        text-align: right;\n",
       "    }\n",
       "</style>\n",
       "<table border=\"1\" class=\"dataframe\">\n",
       "  <thead>\n",
       "    <tr style=\"text-align: right;\">\n",
       "      <th></th>\n",
       "      <th>1524205092919168098</th>\n",
       "      <th>-18.92</th>\n",
       "    </tr>\n",
       "  </thead>\n",
       "  <tbody>\n",
       "    <tr>\n",
       "      <th>0</th>\n",
       "      <td>1524205093019178687</td>\n",
       "      <td>-18.89</td>\n",
       "    </tr>\n",
       "    <tr>\n",
       "      <th>1</th>\n",
       "      <td>1524205093119166950</td>\n",
       "      <td>-18.86</td>\n",
       "    </tr>\n",
       "    <tr>\n",
       "      <th>2</th>\n",
       "      <td>1524205093219129609</td>\n",
       "      <td>-18.86</td>\n",
       "    </tr>\n",
       "    <tr>\n",
       "      <th>3</th>\n",
       "      <td>1524205093319134108</td>\n",
       "      <td>-18.89</td>\n",
       "    </tr>\n",
       "    <tr>\n",
       "      <th>4</th>\n",
       "      <td>1524205093419121389</td>\n",
       "      <td>-18.79</td>\n",
       "    </tr>\n",
       "    <tr>\n",
       "      <th>...</th>\n",
       "      <td>...</td>\n",
       "      <td>...</td>\n",
       "    </tr>\n",
       "    <tr>\n",
       "      <th>44917</th>\n",
       "      <td>1524209584371029124</td>\n",
       "      <td>-14.95</td>\n",
       "    </tr>\n",
       "    <tr>\n",
       "      <th>44918</th>\n",
       "      <td>1524209584471023930</td>\n",
       "      <td>-14.90</td>\n",
       "    </tr>\n",
       "    <tr>\n",
       "      <th>44919</th>\n",
       "      <td>1524209584570986509</td>\n",
       "      <td>-14.95</td>\n",
       "    </tr>\n",
       "    <tr>\n",
       "      <th>44920</th>\n",
       "      <td>1524209584670982695</td>\n",
       "      <td>-14.99</td>\n",
       "    </tr>\n",
       "    <tr>\n",
       "      <th>44921</th>\n",
       "      <td>1524209584770991545</td>\n",
       "      <td>-14.98</td>\n",
       "    </tr>\n",
       "  </tbody>\n",
       "</table>\n",
       "<p>44922 rows × 2 columns</p>\n",
       "</div>"
      ],
      "text/plain": [
       "       1524205092919168098  -18.92\n",
       "0      1524205093019178687  -18.89\n",
       "1      1524205093119166950  -18.86\n",
       "2      1524205093219129609  -18.86\n",
       "3      1524205093319134108  -18.89\n",
       "4      1524205093419121389  -18.79\n",
       "...                    ...     ...\n",
       "44917  1524209584371029124  -14.95\n",
       "44918  1524209584471023930  -14.90\n",
       "44919  1524209584570986509  -14.95\n",
       "44920  1524209584670982695  -14.99\n",
       "44921  1524209584770991545  -14.98\n",
       "\n",
       "[44922 rows x 2 columns]"
      ]
     },
     "execution_count": 22,
     "metadata": {},
     "output_type": "execute_result"
    }
   ],
   "source": [
    "altimeter"
   ]
  },
  {
   "cell_type": "code",
   "execution_count": 23,
   "id": "47847471-e452-4cdf-9230-496ab55ef722",
   "metadata": {},
   "outputs": [],
   "source": [
    "al = altimeter.to_numpy()"
   ]
  },
  {
   "cell_type": "code",
   "execution_count": 18,
   "id": "88182a67-94f1-4172-a336-a06d5adfedfd",
   "metadata": {},
   "outputs": [
    {
     "data": {
      "image/png": "[encoded data removed]",
      "text/plain": [
       "<Figure size 432x288 with 1 Axes>"
      ]
     },
     "metadata": {
      "needs_background": "light"
     },
     "output_type": "display_data"
    }
   ],
   "source": [
    "plt.scatter(al[:,0], al[:,1])\n",
    "plt.show()"
   ]
  },
  {
   "cell_type": "code",
   "execution_count": 17,
   "id": "5f0e3b93-5586-4e6e-9a3e-5b0f0325f23e",
   "metadata": {},
   "outputs": [
    {
     "data": {
      "text/plain": [
       "array([1.52420509e+18, 1.52420509e+18, 1.52420509e+18, ...,\n",
       "       1.52420958e+18, 1.52420958e+18, 1.52420958e+18])"
      ]
     },
     "execution_count": 17,
     "metadata": {},
     "output_type": "execute_result"
    }
   ],
   "source": [
    "al[:, 0]"
   ]
  },
  {
   "cell_type": "code",
   "execution_count": 6,
   "id": "525cd9ff-734e-4ce4-a4bd-2995b321b64a",
   "metadata": {},
   "outputs": [],
   "source": [
    "imu = pd.read_csv('urban16/sensor_data/xsens_imu.csv')"
   ]
  },
  {
   "cell_type": "code",
   "execution_count": 10,
   "id": "8c265a1b-97f0-4a41-88fa-03a08be37df7",
   "metadata": {},
   "outputs": [
    {
     "data": {
      "text/html": [
       "<div>\n",
       "<style scoped>\n",
       "    .dataframe tbody tr th:only-of-type {\n",
       "        vertical-align: middle;\n",
       "    }\n",
       "\n",
       "    .dataframe tbody tr th {\n",
       "        vertical-align: top;\n",
       "    }\n",
       "\n",
       "    .dataframe thead th {\n",
       "        text-align: right;\n",
       "    }\n",
       "</style>\n",
       "<table border=\"1\" class=\"dataframe\">\n",
       "  <thead>\n",
       "    <tr style=\"text-align: right;\">\n",
       "      <th></th>\n",
       "      <th>1524205092901367612</th>\n",
       "      <th>0.0053844843059778213501</th>\n",
       "      <th>0.0023288608063012365863</th>\n",
       "      <th>-0.99531102180480957031</th>\n",
       "      <th>0.096548072993755354454</th>\n",
       "      <th>-0.20605800866116225079</th>\n",
       "      <th>0.63990214816145918331</th>\n",
       "      <th>-168.92010454753150839</th>\n",
       "      <th>-0.0028945493977516893909</th>\n",
       "      <th>-0.0011764479568228127741</th>\n",
       "      <th>0.00086315453518182039261</th>\n",
       "      <th>-0.13102997839450838957</th>\n",
       "      <th>-0.038366880267858512188</th>\n",
       "      <th>9.6901941299438494326</th>\n",
       "      <th>-0.093789838254451765587</th>\n",
       "      <th>-0.37067520618438720703</th>\n",
       "      <th>-0.91576206684112548828</th>\n",
       "    </tr>\n",
       "  </thead>\n",
       "  <tbody>\n",
       "    <tr>\n",
       "      <th>0</th>\n",
       "      <td>1524205092911347281</td>\n",
       "      <td>0.005383</td>\n",
       "      <td>0.002326</td>\n",
       "      <td>-0.995311</td>\n",
       "      <td>0.096552</td>\n",
       "      <td>-0.205715</td>\n",
       "      <td>0.639675</td>\n",
       "      <td>-168.919632</td>\n",
       "      <td>-0.002981</td>\n",
       "      <td>-0.003327</td>\n",
       "      <td>-0.000982</td>\n",
       "      <td>-0.117716</td>\n",
       "      <td>-0.043980</td>\n",
       "      <td>9.836041</td>\n",
       "      <td>-0.096728</td>\n",
       "      <td>-0.365902</td>\n",
       "      <td>-0.911945</td>\n",
       "    </tr>\n",
       "    <tr>\n",
       "      <th>1</th>\n",
       "      <td>1524205092921344670</td>\n",
       "      <td>0.005384</td>\n",
       "      <td>0.002326</td>\n",
       "      <td>-0.995311</td>\n",
       "      <td>0.096550</td>\n",
       "      <td>-0.205755</td>\n",
       "      <td>0.639781</td>\n",
       "      <td>-168.919884</td>\n",
       "      <td>-0.001999</td>\n",
       "      <td>-0.001001</td>\n",
       "      <td>-0.003533</td>\n",
       "      <td>-0.135292</td>\n",
       "      <td>-0.132356</td>\n",
       "      <td>9.761695</td>\n",
       "      <td>-0.097624</td>\n",
       "      <td>-0.367590</td>\n",
       "      <td>-0.917523</td>\n",
       "    </tr>\n",
       "    <tr>\n",
       "      <th>2</th>\n",
       "      <td>1524205092931368494</td>\n",
       "      <td>0.005386</td>\n",
       "      <td>0.002328</td>\n",
       "      <td>-0.995310</td>\n",
       "      <td>0.096560</td>\n",
       "      <td>-0.205908</td>\n",
       "      <td>0.640106</td>\n",
       "      <td>-168.918723</td>\n",
       "      <td>-0.003685</td>\n",
       "      <td>-0.001834</td>\n",
       "      <td>-0.000641</td>\n",
       "      <td>-0.166681</td>\n",
       "      <td>-0.087541</td>\n",
       "      <td>9.886489</td>\n",
       "      <td>-0.092755</td>\n",
       "      <td>-0.369038</td>\n",
       "      <td>-0.911506</td>\n",
       "    </tr>\n",
       "    <tr>\n",
       "      <th>3</th>\n",
       "      <td>1524205092941343256</td>\n",
       "      <td>0.005374</td>\n",
       "      <td>0.002338</td>\n",
       "      <td>-0.995310</td>\n",
       "      <td>0.096559</td>\n",
       "      <td>-0.207263</td>\n",
       "      <td>0.638759</td>\n",
       "      <td>-168.918820</td>\n",
       "      <td>-0.005282</td>\n",
       "      <td>-0.004157</td>\n",
       "      <td>0.000021</td>\n",
       "      <td>-0.125923</td>\n",
       "      <td>-0.032010</td>\n",
       "      <td>9.767415</td>\n",
       "      <td>-0.096894</td>\n",
       "      <td>-0.372027</td>\n",
       "      <td>-0.913612</td>\n",
       "    </tr>\n",
       "    <tr>\n",
       "      <th>4</th>\n",
       "      <td>1524205092951365169</td>\n",
       "      <td>0.005377</td>\n",
       "      <td>0.002332</td>\n",
       "      <td>-0.995309</td>\n",
       "      <td>0.096575</td>\n",
       "      <td>-0.206447</td>\n",
       "      <td>0.639132</td>\n",
       "      <td>-168.916974</td>\n",
       "      <td>-0.002848</td>\n",
       "      <td>-0.000878</td>\n",
       "      <td>-0.001888</td>\n",
       "      <td>-0.130632</td>\n",
       "      <td>0.012046</td>\n",
       "      <td>9.746220</td>\n",
       "      <td>-0.091304</td>\n",
       "      <td>-0.367552</td>\n",
       "      <td>-0.911216</td>\n",
       "    </tr>\n",
       "    <tr>\n",
       "      <th>...</th>\n",
       "      <td>...</td>\n",
       "      <td>...</td>\n",
       "      <td>...</td>\n",
       "      <td>...</td>\n",
       "      <td>...</td>\n",
       "      <td>...</td>\n",
       "      <td>...</td>\n",
       "      <td>...</td>\n",
       "      <td>...</td>\n",
       "      <td>...</td>\n",
       "      <td>...</td>\n",
       "      <td>...</td>\n",
       "      <td>...</td>\n",
       "      <td>...</td>\n",
       "      <td>...</td>\n",
       "      <td>...</td>\n",
       "      <td>...</td>\n",
       "    </tr>\n",
       "    <tr>\n",
       "      <th>449209</th>\n",
       "      <td>1524209584808094035</td>\n",
       "      <td>0.015152</td>\n",
       "      <td>-0.005721</td>\n",
       "      <td>0.787097</td>\n",
       "      <td>0.616617</td>\n",
       "      <td>0.554877</td>\n",
       "      <td>-1.771126</td>\n",
       "      <td>103.840617</td>\n",
       "      <td>-0.005469</td>\n",
       "      <td>-0.001670</td>\n",
       "      <td>-0.001437</td>\n",
       "      <td>-0.229058</td>\n",
       "      <td>0.014217</td>\n",
       "      <td>9.894310</td>\n",
       "      <td>0.423918</td>\n",
       "      <td>-0.174352</td>\n",
       "      <td>-1.075284</td>\n",
       "    </tr>\n",
       "    <tr>\n",
       "      <th>449210</th>\n",
       "      <td>1524209584818092910</td>\n",
       "      <td>0.015138</td>\n",
       "      <td>-0.005729</td>\n",
       "      <td>0.787101</td>\n",
       "      <td>0.616612</td>\n",
       "      <td>0.553172</td>\n",
       "      <td>-1.770391</td>\n",
       "      <td>103.841428</td>\n",
       "      <td>-0.006211</td>\n",
       "      <td>-0.001584</td>\n",
       "      <td>0.000267</td>\n",
       "      <td>-0.159810</td>\n",
       "      <td>0.030646</td>\n",
       "      <td>9.882493</td>\n",
       "      <td>0.424473</td>\n",
       "      <td>-0.174555</td>\n",
       "      <td>-1.080571</td>\n",
       "    </tr>\n",
       "    <tr>\n",
       "      <th>449211</th>\n",
       "      <td>1524209584828124849</td>\n",
       "      <td>0.015117</td>\n",
       "      <td>-0.005732</td>\n",
       "      <td>0.787104</td>\n",
       "      <td>0.616609</td>\n",
       "      <td>0.551402</td>\n",
       "      <td>-1.768713</td>\n",
       "      <td>103.841923</td>\n",
       "      <td>-0.006990</td>\n",
       "      <td>0.001043</td>\n",
       "      <td>0.000605</td>\n",
       "      <td>-0.195869</td>\n",
       "      <td>0.117367</td>\n",
       "      <td>9.813344</td>\n",
       "      <td>0.425974</td>\n",
       "      <td>-0.177726</td>\n",
       "      <td>-1.083184</td>\n",
       "    </tr>\n",
       "    <tr>\n",
       "      <th>449212</th>\n",
       "      <td>1524209584838052402</td>\n",
       "      <td>0.015109</td>\n",
       "      <td>-0.005723</td>\n",
       "      <td>0.787101</td>\n",
       "      <td>0.616612</td>\n",
       "      <td>0.551612</td>\n",
       "      <td>-1.767436</td>\n",
       "      <td>103.841438</td>\n",
       "      <td>-0.001791</td>\n",
       "      <td>-0.001944</td>\n",
       "      <td>-0.002013</td>\n",
       "      <td>-0.213896</td>\n",
       "      <td>0.114543</td>\n",
       "      <td>9.767582</td>\n",
       "      <td>0.420133</td>\n",
       "      <td>-0.175924</td>\n",
       "      <td>-1.079947</td>\n",
       "    </tr>\n",
       "    <tr>\n",
       "      <th>449213</th>\n",
       "      <td>1524209584848052494</td>\n",
       "      <td>0.015115</td>\n",
       "      <td>-0.005721</td>\n",
       "      <td>0.787102</td>\n",
       "      <td>0.616612</td>\n",
       "      <td>0.552233</td>\n",
       "      <td>-1.767783</td>\n",
       "      <td>103.841532</td>\n",
       "      <td>-0.000357</td>\n",
       "      <td>-0.002120</td>\n",
       "      <td>-0.000562</td>\n",
       "      <td>-0.207760</td>\n",
       "      <td>0.083317</td>\n",
       "      <td>9.799102</td>\n",
       "      <td>0.421369</td>\n",
       "      <td>-0.175906</td>\n",
       "      <td>-1.078422</td>\n",
       "    </tr>\n",
       "  </tbody>\n",
       "</table>\n",
       "<p>449214 rows × 17 columns</p>\n",
       "</div>"
      ],
      "text/plain": [
       "        1524205092901367612  0.0053844843059778213501  \\\n",
       "0       1524205092911347281                  0.005383   \n",
       "1       1524205092921344670                  0.005384   \n",
       "2       1524205092931368494                  0.005386   \n",
       "3       1524205092941343256                  0.005374   \n",
       "4       1524205092951365169                  0.005377   \n",
       "...                     ...                       ...   \n",
       "449209  1524209584808094035                  0.015152   \n",
       "449210  1524209584818092910                  0.015138   \n",
       "449211  1524209584828124849                  0.015117   \n",
       "449212  1524209584838052402                  0.015109   \n",
       "449213  1524209584848052494                  0.015115   \n",
       "\n",
       "        0.0023288608063012365863  -0.99531102180480957031  \\\n",
       "0                       0.002326                -0.995311   \n",
       "1                       0.002326                -0.995311   \n",
       "2                       0.002328                -0.995310   \n",
       "3                       0.002338                -0.995310   \n",
       "4                       0.002332                -0.995309   \n",
       "...                          ...                      ...   \n",
       "449209                 -0.005721                 0.787097   \n",
       "449210                 -0.005729                 0.787101   \n",
       "449211                 -0.005732                 0.787104   \n",
       "449212                 -0.005723                 0.787101   \n",
       "449213                 -0.005721                 0.787102   \n",
       "\n",
       "        0.096548072993755354454  -0.20605800866116225079  \\\n",
       "0                      0.096552                -0.205715   \n",
       "1                      0.096550                -0.205755   \n",
       "2                      0.096560                -0.205908   \n",
       "3                      0.096559                -0.207263   \n",
       "4                      0.096575                -0.206447   \n",
       "...                         ...                      ...   \n",
       "449209                 0.616617                 0.554877   \n",
       "449210                 0.616612                 0.553172   \n",
       "449211                 0.616609                 0.551402   \n",
       "449212                 0.616612                 0.551612   \n",
       "449213                 0.616612                 0.552233   \n",
       "\n",
       "        0.63990214816145918331  -168.92010454753150839  \\\n",
       "0                     0.639675             -168.919632   \n",
       "1                     0.639781             -168.919884   \n",
       "2                     0.640106             -168.918723   \n",
       "3                     0.638759             -168.918820   \n",
       "4                     0.639132             -168.916974   \n",
       "...                        ...                     ...   \n",
       "449209               -1.771126              103.840617   \n",
       "449210               -1.770391              103.841428   \n",
       "449211               -1.768713              103.841923   \n",
       "449212               -1.767436              103.841438   \n",
       "449213               -1.767783              103.841532   \n",
       "\n",
       "        -0.0028945493977516893909  -0.0011764479568228127741  \\\n",
       "0                       -0.002981                  -0.003327   \n",
       "1                       -0.001999                  -0.001001   \n",
       "2                       -0.003685                  -0.001834   \n",
       "3                       -0.005282                  -0.004157   \n",
       "4                       -0.002848                  -0.000878   \n",
       "...                           ...                        ...   \n",
       "449209                  -0.005469                  -0.001670   \n",
       "449210                  -0.006211                  -0.001584   \n",
       "449211                  -0.006990                   0.001043   \n",
       "449212                  -0.001791                  -0.001944   \n",
       "449213                  -0.000357                  -0.002120   \n",
       "\n",
       "        0.00086315453518182039261  -0.13102997839450838957  \\\n",
       "0                       -0.000982                -0.117716   \n",
       "1                       -0.003533                -0.135292   \n",
       "2                       -0.000641                -0.166681   \n",
       "3                        0.000021                -0.125923   \n",
       "4                       -0.001888                -0.130632   \n",
       "...                           ...                      ...   \n",
       "449209                  -0.001437                -0.229058   \n",
       "449210                   0.000267                -0.159810   \n",
       "449211                   0.000605                -0.195869   \n",
       "449212                  -0.002013                -0.213896   \n",
       "449213                  -0.000562                -0.207760   \n",
       "\n",
       "        -0.038366880267858512188  9.6901941299438494326  \\\n",
       "0                      -0.043980               9.836041   \n",
       "1                      -0.132356               9.761695   \n",
       "2                      -0.087541               9.886489   \n",
       "3                      -0.032010               9.767415   \n",
       "4                       0.012046               9.746220   \n",
       "...                          ...                    ...   \n",
       "449209                  0.014217               9.894310   \n",
       "449210                  0.030646               9.882493   \n",
       "449211                  0.117367               9.813344   \n",
       "449212                  0.114543               9.767582   \n",
       "449213                  0.083317               9.799102   \n",
       "\n",
       "        -0.093789838254451765587  -0.37067520618438720703  \\\n",
       "0                      -0.096728                -0.365902   \n",
       "1                      -0.097624                -0.367590   \n",
       "2                      -0.092755                -0.369038   \n",
       "3                      -0.096894                -0.372027   \n",
       "4                      -0.091304                -0.367552   \n",
       "...                          ...                      ...   \n",
       "449209                  0.423918                -0.174352   \n",
       "449210                  0.424473                -0.174555   \n",
       "449211                  0.425974                -0.177726   \n",
       "449212                  0.420133                -0.175924   \n",
       "449213                  0.421369                -0.175906   \n",
       "\n",
       "        -0.91576206684112548828  \n",
       "0                     -0.911945  \n",
       "1                     -0.917523  \n",
       "2                     -0.911506  \n",
       "3                     -0.913612  \n",
       "4                     -0.911216  \n",
       "...                         ...  \n",
       "449209                -1.075284  \n",
       "449210                -1.080571  \n",
       "449211                -1.083184  \n",
       "449212                -1.079947  \n",
       "449213                -1.078422  \n",
       "\n",
       "[449214 rows x 17 columns]"
      ]
     },
     "execution_count": 10,
     "metadata": {},
     "output_type": "execute_result"
    }
   ],
   "source": [
    "imu"
   ]
  },
  {
   "cell_type": "code",
   "execution_count": 25,
   "id": "0bb25f2f-5cdc-4355-9176-a8332195645a",
   "metadata": {},
   "outputs": [
    {
     "data": {
      "text/plain": [
       "(449214, 17)"
      ]
     },
     "execution_count": 25,
     "metadata": {},
     "output_type": "execute_result"
    }
   ],
   "source": [
    "imu.shape"
   ]
  },
  {
   "cell_type": "code",
   "execution_count": 24,
   "id": "fb832891-6255-4336-ab5c-a6fa8a267124",
   "metadata": {},
   "outputs": [],
   "source": [
    "imu = imu.to_numpy()"
   ]
  },
  {
   "cell_type": "code",
   "execution_count": 30,
   "id": "b82a0fcf-3758-43ea-ba75-2b7b22fe6c35",
   "metadata": {},
   "outputs": [
    {
     "data": {
      "image/png": "[encoded data removed]",
      "text/plain": [
       "<Figure size 432x288 with 1 Axes>"
      ]
     },
     "metadata": {
      "needs_background": "light"
     },
     "output_type": "display_data"
    }
   ],
   "source": [
    "ax = plt.axes(projection='3d')\n",
    "\n",
    "xdata = imu[:, 5]\n",
    "ydata = imu[:, 6]\n",
    "zdata = imu[:, 7]\n",
    "ax.scatter3D(xdata, ydata, zdata, cmap='Greens');\n"
   ]
  },
  {
   "cell_type": "code",
   "execution_count": 36,
   "id": "a6366219-03ab-40dd-9dc8-ccd37560d346",
   "metadata": {},
   "outputs": [
    {
     "data": {
      "text/plain": [
       "<matplotlib.collections.PathCollection at 0x28e0a343490>"
      ]
     },
     "execution_count": 36,
     "metadata": {},
     "output_type": "execute_result"
    },
    {
     "data": {
      "image/png": "[encoded data removed]",
      "text/plain": [
       "<Figure size 432x288 with 1 Axes>"
      ]
     },
     "metadata": {
      "needs_background": "light"
     },
     "output_type": "display_data"
    }
   ],
   "source": [
    "xdata = imu[:, 5]\n",
    "\n",
    "x = range(imu.shape[0])\n",
    "\n",
    "plt.scatter(x, xdata)"
   ]
  },
  {
   "cell_type": "code",
   "execution_count": 37,
   "id": "05cc9a8c-cd77-4160-9ef5-5ebb407e9de2",
   "metadata": {},
   "outputs": [
    {
     "data": {
      "text/plain": [
       "<matplotlib.collections.PathCollection at 0x28e106a2970>"
      ]
     },
     "execution_count": 37,
     "metadata": {},
     "output_type": "execute_result"
    },
    {
     "data": {
      "image/png": "[encoded data removed]",
      "text/plain": [
       "<Figure size 432x288 with 1 Axes>"
      ]
     },
     "metadata": {
      "needs_background": "light"
     },
     "output_type": "display_data"
    }
   ],
   "source": [
    "ydata = imu[:, 6]\n",
    "\n",
    "plt.scatter(x, ydata)"
   ]
  },
  {
   "cell_type": "code",
   "execution_count": 40,
   "id": "6b9f5fad-3b0c-43db-9fb2-9e55364c6f28",
   "metadata": {},
   "outputs": [
    {
     "data": {
      "text/plain": [
       "<matplotlib.collections.PathCollection at 0x28e11c94be0>"
      ]
     },
     "execution_count": 40,
     "metadata": {},
     "output_type": "execute_result"
    },
    {
     "data": {
      "image/png": "[encoded data removed]",
      "text/plain": [
       "<Figure size 432x288 with 1 Axes>"
      ]
     },
     "metadata": {
      "needs_background": "light"
     },
     "output_type": "display_data"
    }
   ],
   "source": [
    "zdata = imu[:, 7] * np.pi /180\n",
    "\n",
    "plt.scatter(x, zdata)"
   ]
  }
 ],
 "metadata": {
  "kernelspec": {
   "display_name": "Python 3 (ipykernel)",
   "language": "python",
   "name": "python3"
  },
  "language_info": {
   "codemirror_mode": {
    "name": "ipython",
    "version": 3
   },
   "file_extension": ".py",
   "mimetype": "text/x-python",
   "name": "python",
   "nbconvert_exporter": "python",
   "pygments_lexer": "ipython3",
   "version": "3.9.7"
  }
 },
 "nbformat": 4,
 "nbformat_minor": 5
}
