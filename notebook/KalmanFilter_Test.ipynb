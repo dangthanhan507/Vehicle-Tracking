{
 "cells": [
  {
   "cell_type": "code",
   "execution_count": 59,
   "id": "b1f078b3",
   "metadata": {},
   "outputs": [],
   "source": [
    "from DataUtils import DataInterface\n",
    "import numpy as np;\n",
    "import matplotlib.pyplot as plt;\n",
    "from mpl_toolkits import mplot3d;\n",
    "\n",
    "%matplotlib inline"
   ]
  },
  {
   "cell_type": "code",
   "execution_count": 66,
   "id": "d2a73882",
   "metadata": {},
   "outputs": [],
   "source": [
    "class SensorReader:\n",
    "    def __init__(self, radiusOfEarth, encoder_resolution, encoder_diameterL, encoder_diameterR):\n",
    "        self.data_interface = DataInterface(\n",
    "            # \"/home/an/workspace/Classes/Spring 2022/CS-179/Project/urban16/sensor_data/gps.csv\",\n",
    "            # \"/home/an/workspace/Classes/Spring 2022/CS-179/Project/urban16/sensor_data/xsens_imu.csv\",\n",
    "            # \"/home/an/workspace/Classes/Spring 2022/CS-179/Project/urban16/sensor_data/encoder.csv\"\n",
    "            \"C:/Users/erich/OneDrive/Desktop/UCI/CS 179/project/urban16/sensor_data/gps.csv\",\n",
    "            \"C:/Users/erich/OneDrive/Desktop/UCI/CS 179/project/urban16/sensor_data/xsens_imu.csv\",\n",
    "            \"C:/Users/erich/OneDrive/Desktop/UCI/CS 179/project/urban16/sensor_data/encoder.csv\"\n",
    "        )\n",
    "        # data -> (lon,lat,alt,left,right,yaw,pitch,roll)\n",
    "        self.R = radiusOfEarth\n",
    "        self.res = encoder_resolution\n",
    "        self.angle_to_rad = np.pi/180\n",
    "        self.enc_radL = encoder_diameterL / 2\n",
    "        self.enc_radR = encoder_diameterR / 2\n",
    "        \n",
    "        self.init_data, temp = self.parse(self.data_interface.read())\n",
    "        self.meas = self.init_data.copy()\n",
    "        self.meas[0:5] = 0 #re-init\n",
    "        \n",
    "    def parse(self, data):\n",
    "        gps = data['gps_data']\n",
    "        imu = data['imu_data']\n",
    "        enc = data['encoders_data']\n",
    "        lat,lon,alt = gps[1:4]\n",
    "        pitch, roll, yaw = imu[5:8]\n",
    "        left,right = enc[1:3]\n",
    "        \n",
    "        lat = lat*np.pi/180*R\n",
    "        lon = lon*np.pi/180*R\n",
    "        left = left * 2*np.pi/self.res * self.enc_radL\n",
    "        right = right * 2*np.pi/self.res * self.enc_radR\n",
    "        \n",
    "        pitch = pitch * np.pi / 180\n",
    "        yaw = yaw * np.pi / 180\n",
    "        roll = roll * np.pi / 180\n",
    "\n",
    "        #the second element is part fo the new cov for R\n",
    "        return np.array([[lon,lat,alt,left,right,yaw,pitch,roll]]).T , gps[4:].reshape(3,3)\n",
    "        #return np.array([[lon,lat,alt,left,right,yaw,pitch,roll]]).T\n",
    "    def read(self):\n",
    "        #self.meas, temp = self.parse(self.data_interface.read())\n",
    "        self.meas, temp = self.parse(self.data_interface.read())\n",
    "        self.meas[0:5] -= self.init_data[0:5]\n",
    "        return self.meas, temp\n",
    "        #return self.meas"
   ]
  },
  {
   "cell_type": "code",
   "execution_count": 67,
   "id": "66b20154",
   "metadata": {},
   "outputs": [],
   "source": [
    "class KalmanFilter:\n",
    "    def __init__(self, A,C,Q,R, init0):\n",
    "        self.A = A\n",
    "        self.C = C\n",
    "        self.Q = Q\n",
    "        self.R = R\n",
    "\n",
    "        self.mu = init0\n",
    "        self.cov = np.eye(6)\n",
    "        self.Kt = np.eye(6)\n",
    "    def predict(self):\n",
    "        self.mu_pred = self.A @ self.mu\n",
    "        self.cov_pred = self.A @ self.cov @ self.A.T + self.R\n",
    "        self.Kt = self.cov_pred @ self.C.T @ np.linalg.inv(self.C @ self.cov_pred @ self.C.T + self.Q)\n",
    "    def correct(self, meas):\n",
    "        self.mu = self.mu_pred + self.Kt @ (meas - self.C @ self.mu_pred)\n",
    "        self.cov = (np.eye(6) - self.Kt@self.C) @ self.cov_pred"
   ]
  },
  {
   "cell_type": "code",
   "execution_count": 68,
   "id": "b135a12e",
   "metadata": {},
   "outputs": [],
   "source": [
    "\n",
    "R = 6_371_000 #earth's radius in meters\n",
    "encDiamL = 0.623022\n",
    "encDiamR = 0.622356\n",
    "res = 4096\n",
    "wheelbase = 1.5285\n",
    "\n",
    "sensors = SensorReader(R, res, encDiamL, encDiamR)\n",
    "\n",
    "init0, temp = sensors.read()"
   ]
  },
  {
   "cell_type": "code",
   "execution_count": 72,
   "id": "c841dc6a",
   "metadata": {},
   "outputs": [
    {
     "name": "stdout",
     "output_type": "stream",
     "text": [
      "[[ 0.03335848]\n",
      " [-0.04447797]\n",
      " [ 0.062     ]]\n"
     ]
    }
   ],
   "source": [
    "print(init0[:3,:])"
   ]
  },
  {
   "cell_type": "code",
   "execution_count": 69,
   "id": "1adabbf7",
   "metadata": {},
   "outputs": [],
   "source": [
    "A = np.zeros((6,6))\n",
    "A[0:3, 0:3] = np.eye(3) * 2\n",
    "A[0:3, 3:6] = np.eye(3) * -1\n",
    "A[3:6, 0:3] = np.eye(3)\n",
    "\n",
    "\n",
    "C = np.eye(6)\n",
    "\n",
    "Q = np.zeros((6,6))\n",
    "Q[0:3, 0:3] = temp * 2\n",
    "Q[3:6, 3: 6] = temp\n",
    "\n",
    "R = np.zeros((6,6))\n",
    "R[0:3, 0:3] = temp\n",
    "R[3:6, 3:6] = temp\n",
    "\n",
    "\n",
    "start_mu = np.concatenate((init0[:3,:], np.zeros((3,1)) ), axis=0)\n",
    "kal = KalmanFilter(A,C,Q,R,start_mu)"
   ]
  },
  {
   "cell_type": "code",
   "execution_count": 73,
   "id": "f88a9bda",
   "metadata": {},
   "outputs": [
    {
     "name": "stderr",
     "output_type": "stream",
     "text": [
      "C:\\Users\\erich\\AppData\\Local\\Temp/ipykernel_30972/1860778617.py:40: VisibleDeprecationWarning: Creating an ndarray from ragged nested sequences (which is a list-or-tuple of lists-or-tuples-or ndarrays with different lengths or shapes) is deprecated. If you meant to do this, you must specify 'dtype=object' when creating the ndarray.\n",
      "  return np.array([[lon,lat,alt,left,right,yaw,pitch,roll]]).T , gps[4:].reshape(3,3)\n"
     ]
    }
   ],
   "source": [
    "data = np.array([[0,0,0]]).T\n",
    "sensor_data = np.array([[0,0,0]]).T\n",
    "previous = np.array([[0,0,0]]).T\n",
    "\n",
    "for i in range(5_000):\n",
    "    reading, temp = sensors.read()\n",
    "    kal.predict()\n",
    "    kal.correct(np.concatenate((reading[:3,:], previous), axis = 0 ))\n",
    "    previous = reading[:3,:]\n",
    "    data = np.hstack((data,kal.mu[0:3,:]))\n",
    "    sensor_data = np.hstack((sensor_data, reading[:3,:]))"
   ]
  },
  {
   "cell_type": "code",
   "execution_count": 75,
   "outputs": [
    {
     "data": {
      "text/plain": "(3, 5001)"
     },
     "execution_count": 75,
     "metadata": {},
     "output_type": "execute_result"
    }
   ],
   "source": [
    "data.shape"
   ],
   "metadata": {
    "collapsed": false,
    "pycharm": {
     "name": "#%%\n"
    }
   }
  },
  {
   "cell_type": "code",
   "execution_count": 76,
   "outputs": [
    {
     "name": "stdout",
     "output_type": "stream",
     "text": [
      "[[0 array([[-5099894.36098918, -5099924.43112476, -5099924.43112476,\n",
      "            -5099924.43112476, -5099924.43112476, -5099924.43112476],\n",
      "           [-5099924.43112476, -5099894.36098918, -5099924.43112476,\n",
      "            -5099924.43112476, -5099924.43112476, -5099924.43112476],\n",
      "           [-5099924.43112476, -5099924.43112476, -5099898.85937476,\n",
      "            -5099924.43112476, -5099924.43112476, -5099924.43112476],\n",
      "           [-5099924.43112476, -5099924.43112476, -5099924.43112476,\n",
      "            -5099894.36098918, -5099924.43112476, -5099924.43112476],\n",
      "           [-5099924.43112476, -5099924.43112476, -5099924.43112476,\n",
      "            -5099924.43112476, -5099894.36098918, -5099924.43112476],\n",
      "           [-5099924.43112476, -5099924.43112476, -5099924.43112476,\n",
      "            -5099924.43112476, -5099924.43112476, -5099898.85937476]])\n",
      "  array([[-14362816.05200676, -14362900.73843229, -14362900.73843229,\n",
      "          -14362900.73843229, -14362900.73843229, -14362900.73843229],\n",
      "         [-14362900.73843229, -14362816.05200676, -14362900.73843229,\n",
      "          -14362900.73843229, -14362900.73843229, -14362900.73843229],\n",
      "         [-14362900.73843229, -14362900.73843229, -14362828.72079552,\n",
      "          -14362900.73843229, -14362900.73843229, -14362900.73843229],\n",
      "         [-14362900.73843229, -14362900.73843229, -14362900.73843229,\n",
      "          -14362816.05200676, -14362900.73843229, -14362900.73843229],\n",
      "         [-14362900.73843229, -14362900.73843229, -14362900.73843229,\n",
      "          -14362900.73843229, -14362816.05200676, -14362900.73843229],\n",
      "         [-14362900.73843229, -14362900.73843229, -14362900.73843229,\n",
      "          -14362900.73843229, -14362900.73843229, -14362828.72079552]])\n",
      "  ...\n",
      "  array([[-14112655.84196906, -14112739.05404974, -14112739.05404974,\n",
      "          -14112739.05404974, -14112739.05404974, -14112739.05404974],\n",
      "         [-14112739.05404974, -14112655.84196906, -14112739.05404974,\n",
      "          -14112739.05404974, -14112739.05404974, -14112739.05404974],\n",
      "         [-14112739.05404974, -14112739.05404974, -14112668.29020106,\n",
      "          -14112739.05404974, -14112739.05404974, -14112739.05404974],\n",
      "         [-14112739.05404974, -14112739.05404974, -14112739.05404974,\n",
      "          -14112655.84196906, -14112739.05404974, -14112739.05404974],\n",
      "         [-14112739.05404974, -14112739.05404974, -14112739.05404974,\n",
      "          -14112739.05404974, -14112655.84196906, -14112739.05404974],\n",
      "         [-14112739.05404974, -14112739.05404974, -14112739.05404974,\n",
      "          -14112739.05404974, -14112739.05404974, -14112668.29020106]])\n",
      "  array([[-14112655.84196901, -14112739.05404974, -14112739.05404974,\n",
      "          -14112739.05404974, -14112739.05404974, -14112739.05404974],\n",
      "         [-14112739.05404974, -14112655.84196901, -14112739.05404974,\n",
      "          -14112739.05404974, -14112739.05404974, -14112739.05404974],\n",
      "         [-14112739.05404974, -14112739.05404974, -14112668.29020102,\n",
      "          -14112739.05404974, -14112739.05404974, -14112739.05404974],\n",
      "         [-14112739.05404974, -14112739.05404974, -14112739.05404974,\n",
      "          -14112655.84196901, -14112739.05404974, -14112739.05404974],\n",
      "         [-14112739.05404974, -14112739.05404974, -14112739.05404974,\n",
      "          -14112739.05404974, -14112655.84196901, -14112739.05404974],\n",
      "         [-14112739.05404974, -14112739.05404974, -14112739.05404974,\n",
      "          -14112739.05404974, -14112739.05404974, -14112668.29020102]])\n",
      "  array([[-14112655.84196889, -14112739.05404974, -14112739.05404974,\n",
      "          -14112739.05404974, -14112739.05404974, -14112739.05404974],\n",
      "         [-14112739.05404974, -14112655.84196889, -14112739.05404974,\n",
      "          -14112739.05404974, -14112739.05404974, -14112739.05404974],\n",
      "         [-14112739.05404974, -14112739.05404974, -14112668.29020092,\n",
      "          -14112739.05404974, -14112739.05404974, -14112739.05404974],\n",
      "         [-14112739.05404974, -14112739.05404974, -14112739.05404974,\n",
      "          -14112655.84196889, -14112739.05404974, -14112739.05404974],\n",
      "         [-14112739.05404974, -14112739.05404974, -14112739.05404974,\n",
      "          -14112739.05404974, -14112655.84196889, -14112739.05404974],\n",
      "         [-14112739.05404974, -14112739.05404974, -14112739.05404974,\n",
      "          -14112739.05404974, -14112739.05404974, -14112668.29020092]])]\n",
      " [0 array([[-1507842.86473176, -1507851.75531486, -1507851.75531486,\n",
      "            -1507851.75531486, -1507851.75531486, -1507851.75531486],\n",
      "           [-1507851.75531486, -1507842.86473176, -1507851.75531486,\n",
      "            -1507851.75531486, -1507851.75531486, -1507851.75531486],\n",
      "           [-1507851.75531486, -1507851.75531486, -1507844.19473145,\n",
      "            -1507851.75531486, -1507851.75531486, -1507851.75531486],\n",
      "           [-1507851.75531486, -1507851.75531486, -1507851.75531486,\n",
      "            -1507842.86473176, -1507851.75531486, -1507851.75531486],\n",
      "           [-1507851.75531486, -1507851.75531486, -1507851.75531486,\n",
      "            -1507851.75531486, -1507842.86473176, -1507851.75531486],\n",
      "           [-1507851.75531486, -1507851.75531486, -1507851.75531486,\n",
      "            -1507851.75531486, -1507851.75531486, -1507844.19473145]])\n",
      "  array([[-4246532.83422401, -4246557.87274414, -4246557.87274414,\n",
      "          -4246557.87274414, -4246557.87274414, -4246557.87274414],\n",
      "         [-4246557.87274414, -4246532.83422401, -4246557.87274414,\n",
      "          -4246557.87274414, -4246557.87274414, -4246557.87274414],\n",
      "         [-4246557.87274414, -4246557.87274414, -4246536.57989778,\n",
      "          -4246557.87274414, -4246557.87274414, -4246557.87274414],\n",
      "         [-4246557.87274414, -4246557.87274414, -4246557.87274414,\n",
      "          -4246532.83422401, -4246557.87274414, -4246557.87274414],\n",
      "         [-4246557.87274414, -4246557.87274414, -4246557.87274414,\n",
      "          -4246557.87274414, -4246532.83422401, -4246557.87274414],\n",
      "         [-4246557.87274414, -4246557.87274414, -4246557.87274414,\n",
      "          -4246557.87274414, -4246557.87274414, -4246536.57989778]]) ...\n",
      "  array([[-4172570.04543689, -4172594.64834775, -4172594.64834775,\n",
      "          -4172594.64834775, -4172594.64834775, -4172594.64834775],\n",
      "         [-4172594.64834775, -4172570.04543689, -4172594.64834775,\n",
      "          -4172594.64834775, -4172594.64834775, -4172594.64834775],\n",
      "         [-4172594.64834775, -4172594.64834775, -4172573.72594506,\n",
      "          -4172594.64834775, -4172594.64834775, -4172594.64834775],\n",
      "         [-4172594.64834775, -4172594.64834775, -4172594.64834775,\n",
      "          -4172570.04543689, -4172594.64834775, -4172594.64834775],\n",
      "         [-4172594.64834775, -4172594.64834775, -4172594.64834775,\n",
      "          -4172594.64834775, -4172570.04543689, -4172594.64834775],\n",
      "         [-4172594.64834775, -4172594.64834775, -4172594.64834775,\n",
      "          -4172594.64834775, -4172594.64834775, -4172573.72594506]])\n",
      "  array([[-4172570.04543692, -4172594.64834775, -4172594.64834775,\n",
      "          -4172594.64834775, -4172594.64834775, -4172594.64834775],\n",
      "         [-4172594.64834775, -4172570.04543692, -4172594.64834775,\n",
      "          -4172594.64834775, -4172594.64834775, -4172594.64834775],\n",
      "         [-4172594.64834775, -4172594.64834775, -4172573.72594508,\n",
      "          -4172594.64834775, -4172594.64834775, -4172594.64834775],\n",
      "         [-4172594.64834775, -4172594.64834775, -4172594.64834775,\n",
      "          -4172570.04543692, -4172594.64834775, -4172594.64834775],\n",
      "         [-4172594.64834775, -4172594.64834775, -4172594.64834775,\n",
      "          -4172594.64834775, -4172570.04543692, -4172594.64834775],\n",
      "         [-4172594.64834775, -4172594.64834775, -4172594.64834775,\n",
      "          -4172594.64834775, -4172594.64834775, -4172573.72594508]])\n",
      "  array([[-4172570.0454369 , -4172594.64834775, -4172594.64834775,\n",
      "          -4172594.64834775, -4172594.64834775, -4172594.64834775],\n",
      "         [-4172594.64834775, -4172570.0454369 , -4172594.64834775,\n",
      "          -4172594.64834775, -4172594.64834775, -4172594.64834775],\n",
      "         [-4172594.64834775, -4172594.64834775, -4172573.72594507,\n",
      "          -4172594.64834775, -4172594.64834775, -4172594.64834775],\n",
      "         [-4172594.64834775, -4172594.64834775, -4172594.64834775,\n",
      "          -4172570.0454369 , -4172594.64834775, -4172594.64834775],\n",
      "         [-4172594.64834775, -4172594.64834775, -4172594.64834775,\n",
      "          -4172594.64834775, -4172570.0454369 , -4172594.64834775],\n",
      "         [-4172594.64834775, -4172594.64834775, -4172594.64834775,\n",
      "          -4172594.64834775, -4172594.64834775, -4172573.72594507]])]\n",
      " [0 array([[0.16048679, 0.16048679, 0.16048679, 0.16048679, 0.16048679,\n",
      "            0.16048679],\n",
      "           [0.16048679, 0.16048679, 0.16048679, 0.16048679, 0.16048679,\n",
      "            0.16048679],\n",
      "           [0.16048679, 0.16048679, 0.16048679, 0.16048679, 0.16048679,\n",
      "            0.16048679],\n",
      "           [0.16048679, 0.16048679, 0.16048679, 0.16048679, 0.16048679,\n",
      "            0.16048679],\n",
      "           [0.16048679, 0.16048679, 0.16048679, 0.16048679, 0.16048679,\n",
      "            0.16048679],\n",
      "           [0.16048679, 0.16048679, 0.16048679, 0.16048679, 0.16048679,\n",
      "            0.16048679]])\n",
      "  array([[0.28630789, 0.28630789, 0.28630789, 0.28630789, 0.28630789,\n",
      "          0.28630789],\n",
      "         [0.28630789, 0.28630789, 0.28630789, 0.28630789, 0.28630789,\n",
      "          0.28630789],\n",
      "         [0.28630789, 0.28630789, 0.28630789, 0.28630789, 0.28630789,\n",
      "          0.28630789],\n",
      "         [0.28630789, 0.28630789, 0.28630789, 0.28630789, 0.28630789,\n",
      "          0.28630789],\n",
      "         [0.28630789, 0.28630789, 0.28630789, 0.28630789, 0.28630789,\n",
      "          0.28630789],\n",
      "         [0.28630789, 0.28630789, 0.28630789, 0.28630789, 0.28630789,\n",
      "          0.28630789]])                                               ...\n",
      "  array([[1.55090723, 1.55090723, 1.55090723, 1.55090723, 1.55090723,\n",
      "          1.55090723],\n",
      "         [1.55090723, 1.55090723, 1.55090723, 1.55090723, 1.55090723,\n",
      "          1.55090723],\n",
      "         [1.55090723, 1.55090723, 1.55090723, 1.55090723, 1.55090723,\n",
      "          1.55090723],\n",
      "         [1.55090723, 1.55090723, 1.55090723, 1.55090723, 1.55090723,\n",
      "          1.55090723],\n",
      "         [1.55090723, 1.55090723, 1.55090723, 1.55090723, 1.55090723,\n",
      "          1.55090723],\n",
      "         [1.55090723, 1.55090723, 1.55090723, 1.55090723, 1.55090723,\n",
      "          1.55090723]])\n",
      "  array([[1.55665285, 1.55665285, 1.55665285, 1.55665285, 1.55665285,\n",
      "          1.55665285],\n",
      "         [1.55665285, 1.55665285, 1.55665285, 1.55665285, 1.55665285,\n",
      "          1.55665285],\n",
      "         [1.55665285, 1.55665285, 1.55665285, 1.55665285, 1.55665285,\n",
      "          1.55665285],\n",
      "         [1.55665285, 1.55665285, 1.55665285, 1.55665285, 1.55665285,\n",
      "          1.55665285],\n",
      "         [1.55665285, 1.55665285, 1.55665285, 1.55665285, 1.55665285,\n",
      "          1.55665285],\n",
      "         [1.55665285, 1.55665285, 1.55665285, 1.55665285, 1.55665285,\n",
      "          1.55665285]])\n",
      "  array([[1.50543319, 1.50543319, 1.50543319, 1.50543319, 1.50543319,\n",
      "          1.50543319],\n",
      "         [1.50543319, 1.50543319, 1.50543319, 1.50543319, 1.50543319,\n",
      "          1.50543319],\n",
      "         [1.50543319, 1.50543319, 1.50543319, 1.50543319, 1.50543319,\n",
      "          1.50543319],\n",
      "         [1.50543319, 1.50543319, 1.50543319, 1.50543319, 1.50543319,\n",
      "          1.50543319],\n",
      "         [1.50543319, 1.50543319, 1.50543319, 1.50543319, 1.50543319,\n",
      "          1.50543319],\n",
      "         [1.50543319, 1.50543319, 1.50543319, 1.50543319, 1.50543319,\n",
      "          1.50543319]])                                              ]]\n"
     ]
    }
   ],
   "source": [
    "print(data)"
   ],
   "metadata": {
    "collapsed": false,
    "pycharm": {
     "name": "#%%\n"
    }
   }
  },
  {
   "cell_type": "code",
   "execution_count": 77,
   "outputs": [
    {
     "data": {
      "text/plain": "(5001,)"
     },
     "execution_count": 77,
     "metadata": {},
     "output_type": "execute_result"
    }
   ],
   "source": [
    "data[0,:].shape"
   ],
   "metadata": {
    "collapsed": false,
    "pycharm": {
     "name": "#%%\n"
    }
   }
  },
  {
   "cell_type": "code",
   "execution_count": 82,
   "outputs": [
    {
     "name": "stdout",
     "output_type": "stream",
     "text": [
      "[[-5099894.36098918 -5099924.43112476 -5099924.43112476 -5099924.43112476\n",
      "  -5099924.43112476 -5099924.43112476]\n",
      " [-5099924.43112476 -5099894.36098918 -5099924.43112476 -5099924.43112476\n",
      "  -5099924.43112476 -5099924.43112476]\n",
      " [-5099924.43112476 -5099924.43112476 -5099898.85937476 -5099924.43112476\n",
      "  -5099924.43112476 -5099924.43112476]\n",
      " [-5099924.43112476 -5099924.43112476 -5099924.43112476 -5099894.36098918\n",
      "  -5099924.43112476 -5099924.43112476]\n",
      " [-5099924.43112476 -5099924.43112476 -5099924.43112476 -5099924.43112476\n",
      "  -5099894.36098918 -5099924.43112476]\n",
      " [-5099924.43112476 -5099924.43112476 -5099924.43112476 -5099924.43112476\n",
      "  -5099924.43112476 -5099898.85937476]]\n"
     ]
    }
   ],
   "source": [
    "print(data[0,1])"
   ],
   "metadata": {
    "collapsed": false,
    "pycharm": {
     "name": "#%%\n"
    }
   }
  },
  {
   "cell_type": "code",
   "execution_count": 83,
   "outputs": [
    {
     "data": {
      "text/plain": "(6, 6)"
     },
     "execution_count": 83,
     "metadata": {},
     "output_type": "execute_result"
    }
   ],
   "source": [
    "data[0,1].shape"
   ],
   "metadata": {
    "collapsed": false,
    "pycharm": {
     "name": "#%%\n"
    }
   }
  },
  {
   "cell_type": "code",
   "execution_count": 78,
   "outputs": [
    {
     "ename": "ValueError",
     "evalue": "x and y must be the same size",
     "output_type": "error",
     "traceback": [
      "\u001B[1;31m---------------------------------------------------------------------------\u001B[0m",
      "\u001B[1;31mValueError\u001B[0m                                Traceback (most recent call last)",
      "\u001B[1;32m~\\AppData\\Local\\Temp/ipykernel_30972/2800707882.py\u001B[0m in \u001B[0;36m<module>\u001B[1;34m\u001B[0m\n\u001B[0;32m      1\u001B[0m \u001B[1;32mfor\u001B[0m \u001B[0mi\u001B[0m \u001B[1;32min\u001B[0m \u001B[0mrange\u001B[0m\u001B[1;33m(\u001B[0m\u001B[1;36m1000\u001B[0m\u001B[1;33m)\u001B[0m\u001B[1;33m:\u001B[0m\u001B[1;33m\u001B[0m\u001B[1;33m\u001B[0m\u001B[0m\n\u001B[1;32m----> 2\u001B[1;33m     \u001B[0mplt\u001B[0m\u001B[1;33m.\u001B[0m\u001B[0mscatter\u001B[0m\u001B[1;33m(\u001B[0m\u001B[0mdata\u001B[0m\u001B[1;33m[\u001B[0m\u001B[1;36m0\u001B[0m\u001B[1;33m:\u001B[0m\u001B[0mi\u001B[0m\u001B[1;33m]\u001B[0m\u001B[1;33m,\u001B[0m \u001B[0mdata\u001B[0m\u001B[1;33m[\u001B[0m\u001B[1;36m1\u001B[0m\u001B[1;33m,\u001B[0m\u001B[0mi\u001B[0m\u001B[1;33m]\u001B[0m\u001B[1;33m)\u001B[0m\u001B[1;33m\u001B[0m\u001B[1;33m\u001B[0m\u001B[0m\n\u001B[0m\u001B[0;32m      3\u001B[0m \u001B[1;33m\u001B[0m\u001B[0m\n\u001B[0;32m      4\u001B[0m \u001B[0mplt\u001B[0m\u001B[1;33m.\u001B[0m\u001B[0mshow\u001B[0m\u001B[1;33m(\u001B[0m\u001B[1;33m)\u001B[0m\u001B[1;33m\u001B[0m\u001B[1;33m\u001B[0m\u001B[0m\n",
      "\u001B[1;32m~\\AppData\\Roaming\\Python\\Python39\\site-packages\\matplotlib\\pyplot.py\u001B[0m in \u001B[0;36mscatter\u001B[1;34m(x, y, s, c, marker, cmap, norm, vmin, vmax, alpha, linewidths, edgecolors, plotnonfinite, data, **kwargs)\u001B[0m\n\u001B[0;32m   2805\u001B[0m         \u001B[0mvmin\u001B[0m\u001B[1;33m=\u001B[0m\u001B[1;32mNone\u001B[0m\u001B[1;33m,\u001B[0m \u001B[0mvmax\u001B[0m\u001B[1;33m=\u001B[0m\u001B[1;32mNone\u001B[0m\u001B[1;33m,\u001B[0m \u001B[0malpha\u001B[0m\u001B[1;33m=\u001B[0m\u001B[1;32mNone\u001B[0m\u001B[1;33m,\u001B[0m \u001B[0mlinewidths\u001B[0m\u001B[1;33m=\u001B[0m\u001B[1;32mNone\u001B[0m\u001B[1;33m,\u001B[0m \u001B[1;33m*\u001B[0m\u001B[1;33m,\u001B[0m\u001B[1;33m\u001B[0m\u001B[1;33m\u001B[0m\u001B[0m\n\u001B[0;32m   2806\u001B[0m         edgecolors=None, plotnonfinite=False, data=None, **kwargs):\n\u001B[1;32m-> 2807\u001B[1;33m     __ret = gca().scatter(\n\u001B[0m\u001B[0;32m   2808\u001B[0m         \u001B[0mx\u001B[0m\u001B[1;33m,\u001B[0m \u001B[0my\u001B[0m\u001B[1;33m,\u001B[0m \u001B[0ms\u001B[0m\u001B[1;33m=\u001B[0m\u001B[0ms\u001B[0m\u001B[1;33m,\u001B[0m \u001B[0mc\u001B[0m\u001B[1;33m=\u001B[0m\u001B[0mc\u001B[0m\u001B[1;33m,\u001B[0m \u001B[0mmarker\u001B[0m\u001B[1;33m=\u001B[0m\u001B[0mmarker\u001B[0m\u001B[1;33m,\u001B[0m \u001B[0mcmap\u001B[0m\u001B[1;33m=\u001B[0m\u001B[0mcmap\u001B[0m\u001B[1;33m,\u001B[0m \u001B[0mnorm\u001B[0m\u001B[1;33m=\u001B[0m\u001B[0mnorm\u001B[0m\u001B[1;33m,\u001B[0m\u001B[1;33m\u001B[0m\u001B[1;33m\u001B[0m\u001B[0m\n\u001B[0;32m   2809\u001B[0m         \u001B[0mvmin\u001B[0m\u001B[1;33m=\u001B[0m\u001B[0mvmin\u001B[0m\u001B[1;33m,\u001B[0m \u001B[0mvmax\u001B[0m\u001B[1;33m=\u001B[0m\u001B[0mvmax\u001B[0m\u001B[1;33m,\u001B[0m \u001B[0malpha\u001B[0m\u001B[1;33m=\u001B[0m\u001B[0malpha\u001B[0m\u001B[1;33m,\u001B[0m \u001B[0mlinewidths\u001B[0m\u001B[1;33m=\u001B[0m\u001B[0mlinewidths\u001B[0m\u001B[1;33m,\u001B[0m\u001B[1;33m\u001B[0m\u001B[1;33m\u001B[0m\u001B[0m\n",
      "\u001B[1;32m~\\AppData\\Roaming\\Python\\Python39\\site-packages\\matplotlib\\__init__.py\u001B[0m in \u001B[0;36minner\u001B[1;34m(ax, data, *args, **kwargs)\u001B[0m\n\u001B[0;32m   1410\u001B[0m     \u001B[1;32mdef\u001B[0m \u001B[0minner\u001B[0m\u001B[1;33m(\u001B[0m\u001B[0max\u001B[0m\u001B[1;33m,\u001B[0m \u001B[1;33m*\u001B[0m\u001B[0margs\u001B[0m\u001B[1;33m,\u001B[0m \u001B[0mdata\u001B[0m\u001B[1;33m=\u001B[0m\u001B[1;32mNone\u001B[0m\u001B[1;33m,\u001B[0m \u001B[1;33m**\u001B[0m\u001B[0mkwargs\u001B[0m\u001B[1;33m)\u001B[0m\u001B[1;33m:\u001B[0m\u001B[1;33m\u001B[0m\u001B[1;33m\u001B[0m\u001B[0m\n\u001B[0;32m   1411\u001B[0m         \u001B[1;32mif\u001B[0m \u001B[0mdata\u001B[0m \u001B[1;32mis\u001B[0m \u001B[1;32mNone\u001B[0m\u001B[1;33m:\u001B[0m\u001B[1;33m\u001B[0m\u001B[1;33m\u001B[0m\u001B[0m\n\u001B[1;32m-> 1412\u001B[1;33m             \u001B[1;32mreturn\u001B[0m \u001B[0mfunc\u001B[0m\u001B[1;33m(\u001B[0m\u001B[0max\u001B[0m\u001B[1;33m,\u001B[0m \u001B[1;33m*\u001B[0m\u001B[0mmap\u001B[0m\u001B[1;33m(\u001B[0m\u001B[0msanitize_sequence\u001B[0m\u001B[1;33m,\u001B[0m \u001B[0margs\u001B[0m\u001B[1;33m)\u001B[0m\u001B[1;33m,\u001B[0m \u001B[1;33m**\u001B[0m\u001B[0mkwargs\u001B[0m\u001B[1;33m)\u001B[0m\u001B[1;33m\u001B[0m\u001B[1;33m\u001B[0m\u001B[0m\n\u001B[0m\u001B[0;32m   1413\u001B[0m \u001B[1;33m\u001B[0m\u001B[0m\n\u001B[0;32m   1414\u001B[0m         \u001B[0mbound\u001B[0m \u001B[1;33m=\u001B[0m \u001B[0mnew_sig\u001B[0m\u001B[1;33m.\u001B[0m\u001B[0mbind\u001B[0m\u001B[1;33m(\u001B[0m\u001B[0max\u001B[0m\u001B[1;33m,\u001B[0m \u001B[1;33m*\u001B[0m\u001B[0margs\u001B[0m\u001B[1;33m,\u001B[0m \u001B[1;33m**\u001B[0m\u001B[0mkwargs\u001B[0m\u001B[1;33m)\u001B[0m\u001B[1;33m\u001B[0m\u001B[1;33m\u001B[0m\u001B[0m\n",
      "\u001B[1;32m~\\AppData\\Roaming\\Python\\Python39\\site-packages\\matplotlib\\axes\\_axes.py\u001B[0m in \u001B[0;36mscatter\u001B[1;34m(self, x, y, s, c, marker, cmap, norm, vmin, vmax, alpha, linewidths, edgecolors, plotnonfinite, **kwargs)\u001B[0m\n\u001B[0;32m   4367\u001B[0m         \u001B[0my\u001B[0m \u001B[1;33m=\u001B[0m \u001B[0mnp\u001B[0m\u001B[1;33m.\u001B[0m\u001B[0mma\u001B[0m\u001B[1;33m.\u001B[0m\u001B[0mravel\u001B[0m\u001B[1;33m(\u001B[0m\u001B[0my\u001B[0m\u001B[1;33m)\u001B[0m\u001B[1;33m\u001B[0m\u001B[1;33m\u001B[0m\u001B[0m\n\u001B[0;32m   4368\u001B[0m         \u001B[1;32mif\u001B[0m \u001B[0mx\u001B[0m\u001B[1;33m.\u001B[0m\u001B[0msize\u001B[0m \u001B[1;33m!=\u001B[0m \u001B[0my\u001B[0m\u001B[1;33m.\u001B[0m\u001B[0msize\u001B[0m\u001B[1;33m:\u001B[0m\u001B[1;33m\u001B[0m\u001B[1;33m\u001B[0m\u001B[0m\n\u001B[1;32m-> 4369\u001B[1;33m             \u001B[1;32mraise\u001B[0m \u001B[0mValueError\u001B[0m\u001B[1;33m(\u001B[0m\u001B[1;34m\"x and y must be the same size\"\u001B[0m\u001B[1;33m)\u001B[0m\u001B[1;33m\u001B[0m\u001B[1;33m\u001B[0m\u001B[0m\n\u001B[0m\u001B[0;32m   4370\u001B[0m \u001B[1;33m\u001B[0m\u001B[0m\n\u001B[0;32m   4371\u001B[0m         \u001B[1;32mif\u001B[0m \u001B[0ms\u001B[0m \u001B[1;32mis\u001B[0m \u001B[1;32mNone\u001B[0m\u001B[1;33m:\u001B[0m\u001B[1;33m\u001B[0m\u001B[1;33m\u001B[0m\u001B[0m\n",
      "\u001B[1;31mValueError\u001B[0m: x and y must be the same size"
     ]
    },
    {
     "data": {
      "text/plain": "<Figure size 432x288 with 1 Axes>",
      "image/png": "[encoded data removed]"
     },
     "metadata": {
      "needs_background": "light"
     },
     "output_type": "display_data"
    }
   ],
   "source": [
    "for i in range(1000):\n",
    "    plt.scatter(data[0:i], data[1,i])\n",
    "\n",
    "plt.show()"
   ],
   "metadata": {
    "collapsed": false,
    "pycharm": {
     "name": "#%%\n"
    }
   }
  },
  {
   "cell_type": "code",
   "execution_count": 74,
   "id": "bc79f663",
   "metadata": {},
   "outputs": [
    {
     "ename": "ValueError",
     "evalue": "setting an array element with a sequence.",
     "output_type": "error",
     "traceback": [
      "\u001B[1;31m---------------------------------------------------------------------------\u001B[0m",
      "\u001B[1;31mTypeError\u001B[0m                                 Traceback (most recent call last)",
      "\u001B[1;31mTypeError\u001B[0m: only size-1 arrays can be converted to Python scalars",
      "\nThe above exception was the direct cause of the following exception:\n",
      "\u001B[1;31mValueError\u001B[0m                                Traceback (most recent call last)",
      "\u001B[1;32m~\\AppData\\Local\\Temp/ipykernel_30972/4229509229.py\u001B[0m in \u001B[0;36m<module>\u001B[1;34m\u001B[0m\n\u001B[1;32m----> 1\u001B[1;33m \u001B[0mplt\u001B[0m\u001B[1;33m.\u001B[0m\u001B[0mscatter\u001B[0m\u001B[1;33m(\u001B[0m\u001B[0mdata\u001B[0m\u001B[1;33m[\u001B[0m\u001B[1;36m0\u001B[0m\u001B[1;33m,\u001B[0m\u001B[1;33m:\u001B[0m\u001B[1;33m]\u001B[0m\u001B[1;33m,\u001B[0m \u001B[0mdata\u001B[0m\u001B[1;33m[\u001B[0m\u001B[1;36m1\u001B[0m\u001B[1;33m,\u001B[0m\u001B[1;33m:\u001B[0m\u001B[1;33m]\u001B[0m\u001B[1;33m,\u001B[0m\u001B[0mc\u001B[0m\u001B[1;33m=\u001B[0m\u001B[1;34m'red'\u001B[0m\u001B[1;33m)\u001B[0m\u001B[1;33m\u001B[0m\u001B[1;33m\u001B[0m\u001B[0m\n\u001B[0m\u001B[0;32m      2\u001B[0m \u001B[0mplt\u001B[0m\u001B[1;33m.\u001B[0m\u001B[0mshow\u001B[0m\u001B[1;33m(\u001B[0m\u001B[1;33m)\u001B[0m\u001B[1;33m\u001B[0m\u001B[1;33m\u001B[0m\u001B[0m\n",
      "\u001B[1;32m~\\AppData\\Roaming\\Python\\Python39\\site-packages\\matplotlib\\pyplot.py\u001B[0m in \u001B[0;36mscatter\u001B[1;34m(x, y, s, c, marker, cmap, norm, vmin, vmax, alpha, linewidths, edgecolors, plotnonfinite, data, **kwargs)\u001B[0m\n\u001B[0;32m   2805\u001B[0m         \u001B[0mvmin\u001B[0m\u001B[1;33m=\u001B[0m\u001B[1;32mNone\u001B[0m\u001B[1;33m,\u001B[0m \u001B[0mvmax\u001B[0m\u001B[1;33m=\u001B[0m\u001B[1;32mNone\u001B[0m\u001B[1;33m,\u001B[0m \u001B[0malpha\u001B[0m\u001B[1;33m=\u001B[0m\u001B[1;32mNone\u001B[0m\u001B[1;33m,\u001B[0m \u001B[0mlinewidths\u001B[0m\u001B[1;33m=\u001B[0m\u001B[1;32mNone\u001B[0m\u001B[1;33m,\u001B[0m \u001B[1;33m*\u001B[0m\u001B[1;33m,\u001B[0m\u001B[1;33m\u001B[0m\u001B[1;33m\u001B[0m\u001B[0m\n\u001B[0;32m   2806\u001B[0m         edgecolors=None, plotnonfinite=False, data=None, **kwargs):\n\u001B[1;32m-> 2807\u001B[1;33m     __ret = gca().scatter(\n\u001B[0m\u001B[0;32m   2808\u001B[0m         \u001B[0mx\u001B[0m\u001B[1;33m,\u001B[0m \u001B[0my\u001B[0m\u001B[1;33m,\u001B[0m \u001B[0ms\u001B[0m\u001B[1;33m=\u001B[0m\u001B[0ms\u001B[0m\u001B[1;33m,\u001B[0m \u001B[0mc\u001B[0m\u001B[1;33m=\u001B[0m\u001B[0mc\u001B[0m\u001B[1;33m,\u001B[0m \u001B[0mmarker\u001B[0m\u001B[1;33m=\u001B[0m\u001B[0mmarker\u001B[0m\u001B[1;33m,\u001B[0m \u001B[0mcmap\u001B[0m\u001B[1;33m=\u001B[0m\u001B[0mcmap\u001B[0m\u001B[1;33m,\u001B[0m \u001B[0mnorm\u001B[0m\u001B[1;33m=\u001B[0m\u001B[0mnorm\u001B[0m\u001B[1;33m,\u001B[0m\u001B[1;33m\u001B[0m\u001B[1;33m\u001B[0m\u001B[0m\n\u001B[0;32m   2809\u001B[0m         \u001B[0mvmin\u001B[0m\u001B[1;33m=\u001B[0m\u001B[0mvmin\u001B[0m\u001B[1;33m,\u001B[0m \u001B[0mvmax\u001B[0m\u001B[1;33m=\u001B[0m\u001B[0mvmax\u001B[0m\u001B[1;33m,\u001B[0m \u001B[0malpha\u001B[0m\u001B[1;33m=\u001B[0m\u001B[0malpha\u001B[0m\u001B[1;33m,\u001B[0m \u001B[0mlinewidths\u001B[0m\u001B[1;33m=\u001B[0m\u001B[0mlinewidths\u001B[0m\u001B[1;33m,\u001B[0m\u001B[1;33m\u001B[0m\u001B[1;33m\u001B[0m\u001B[0m\n",
      "\u001B[1;32m~\\AppData\\Roaming\\Python\\Python39\\site-packages\\matplotlib\\__init__.py\u001B[0m in \u001B[0;36minner\u001B[1;34m(ax, data, *args, **kwargs)\u001B[0m\n\u001B[0;32m   1410\u001B[0m     \u001B[1;32mdef\u001B[0m \u001B[0minner\u001B[0m\u001B[1;33m(\u001B[0m\u001B[0max\u001B[0m\u001B[1;33m,\u001B[0m \u001B[1;33m*\u001B[0m\u001B[0margs\u001B[0m\u001B[1;33m,\u001B[0m \u001B[0mdata\u001B[0m\u001B[1;33m=\u001B[0m\u001B[1;32mNone\u001B[0m\u001B[1;33m,\u001B[0m \u001B[1;33m**\u001B[0m\u001B[0mkwargs\u001B[0m\u001B[1;33m)\u001B[0m\u001B[1;33m:\u001B[0m\u001B[1;33m\u001B[0m\u001B[1;33m\u001B[0m\u001B[0m\n\u001B[0;32m   1411\u001B[0m         \u001B[1;32mif\u001B[0m \u001B[0mdata\u001B[0m \u001B[1;32mis\u001B[0m \u001B[1;32mNone\u001B[0m\u001B[1;33m:\u001B[0m\u001B[1;33m\u001B[0m\u001B[1;33m\u001B[0m\u001B[0m\n\u001B[1;32m-> 1412\u001B[1;33m             \u001B[1;32mreturn\u001B[0m \u001B[0mfunc\u001B[0m\u001B[1;33m(\u001B[0m\u001B[0max\u001B[0m\u001B[1;33m,\u001B[0m \u001B[1;33m*\u001B[0m\u001B[0mmap\u001B[0m\u001B[1;33m(\u001B[0m\u001B[0msanitize_sequence\u001B[0m\u001B[1;33m,\u001B[0m \u001B[0margs\u001B[0m\u001B[1;33m)\u001B[0m\u001B[1;33m,\u001B[0m \u001B[1;33m**\u001B[0m\u001B[0mkwargs\u001B[0m\u001B[1;33m)\u001B[0m\u001B[1;33m\u001B[0m\u001B[1;33m\u001B[0m\u001B[0m\n\u001B[0m\u001B[0;32m   1413\u001B[0m \u001B[1;33m\u001B[0m\u001B[0m\n\u001B[0;32m   1414\u001B[0m         \u001B[0mbound\u001B[0m \u001B[1;33m=\u001B[0m \u001B[0mnew_sig\u001B[0m\u001B[1;33m.\u001B[0m\u001B[0mbind\u001B[0m\u001B[1;33m(\u001B[0m\u001B[0max\u001B[0m\u001B[1;33m,\u001B[0m \u001B[1;33m*\u001B[0m\u001B[0margs\u001B[0m\u001B[1;33m,\u001B[0m \u001B[1;33m**\u001B[0m\u001B[0mkwargs\u001B[0m\u001B[1;33m)\u001B[0m\u001B[1;33m\u001B[0m\u001B[1;33m\u001B[0m\u001B[0m\n",
      "\u001B[1;32m~\\AppData\\Roaming\\Python\\Python39\\site-packages\\matplotlib\\axes\\_axes.py\u001B[0m in \u001B[0;36mscatter\u001B[1;34m(self, x, y, s, c, marker, cmap, norm, vmin, vmax, alpha, linewidths, edgecolors, plotnonfinite, **kwargs)\u001B[0m\n\u001B[0;32m   4456\u001B[0m         \u001B[0moffsets\u001B[0m \u001B[1;33m=\u001B[0m \u001B[0mnp\u001B[0m\u001B[1;33m.\u001B[0m\u001B[0mma\u001B[0m\u001B[1;33m.\u001B[0m\u001B[0mcolumn_stack\u001B[0m\u001B[1;33m(\u001B[0m\u001B[1;33m[\u001B[0m\u001B[0mx\u001B[0m\u001B[1;33m,\u001B[0m \u001B[0my\u001B[0m\u001B[1;33m]\u001B[0m\u001B[1;33m)\u001B[0m\u001B[1;33m\u001B[0m\u001B[1;33m\u001B[0m\u001B[0m\n\u001B[0;32m   4457\u001B[0m \u001B[1;33m\u001B[0m\u001B[0m\n\u001B[1;32m-> 4458\u001B[1;33m         collection = mcoll.PathCollection(\n\u001B[0m\u001B[0;32m   4459\u001B[0m                 \u001B[1;33m(\u001B[0m\u001B[0mpath\u001B[0m\u001B[1;33m,\u001B[0m\u001B[1;33m)\u001B[0m\u001B[1;33m,\u001B[0m \u001B[0mscales\u001B[0m\u001B[1;33m,\u001B[0m\u001B[1;33m\u001B[0m\u001B[1;33m\u001B[0m\u001B[0m\n\u001B[0;32m   4460\u001B[0m                 \u001B[0mfacecolors\u001B[0m\u001B[1;33m=\u001B[0m\u001B[0mcolors\u001B[0m\u001B[1;33m,\u001B[0m\u001B[1;33m\u001B[0m\u001B[1;33m\u001B[0m\u001B[0m\n",
      "\u001B[1;32m~\\AppData\\Roaming\\Python\\Python39\\site-packages\\matplotlib\\collections.py\u001B[0m in \u001B[0;36m__init__\u001B[1;34m(self, paths, sizes, **kwargs)\u001B[0m\n\u001B[0;32m   1011\u001B[0m         \"\"\"\n\u001B[0;32m   1012\u001B[0m \u001B[1;33m\u001B[0m\u001B[0m\n\u001B[1;32m-> 1013\u001B[1;33m         \u001B[0msuper\u001B[0m\u001B[1;33m(\u001B[0m\u001B[1;33m)\u001B[0m\u001B[1;33m.\u001B[0m\u001B[0m__init__\u001B[0m\u001B[1;33m(\u001B[0m\u001B[1;33m**\u001B[0m\u001B[0mkwargs\u001B[0m\u001B[1;33m)\u001B[0m\u001B[1;33m\u001B[0m\u001B[1;33m\u001B[0m\u001B[0m\n\u001B[0m\u001B[0;32m   1014\u001B[0m         \u001B[0mself\u001B[0m\u001B[1;33m.\u001B[0m\u001B[0mset_paths\u001B[0m\u001B[1;33m(\u001B[0m\u001B[0mpaths\u001B[0m\u001B[1;33m)\u001B[0m\u001B[1;33m\u001B[0m\u001B[1;33m\u001B[0m\u001B[0m\n\u001B[0;32m   1015\u001B[0m         \u001B[0mself\u001B[0m\u001B[1;33m.\u001B[0m\u001B[0mset_sizes\u001B[0m\u001B[1;33m(\u001B[0m\u001B[0msizes\u001B[0m\u001B[1;33m)\u001B[0m\u001B[1;33m\u001B[0m\u001B[1;33m\u001B[0m\u001B[0m\n",
      "\u001B[1;32m~\\AppData\\Roaming\\Python\\Python39\\site-packages\\matplotlib\\collections.py\u001B[0m in \u001B[0;36m__init__\u001B[1;34m(self, edgecolors, facecolors, linewidths, linestyles, capstyle, joinstyle, antialiaseds, offsets, transOffset, norm, cmap, pickradius, hatch, urls, zorder, **kwargs)\u001B[0m\n\u001B[0;32m    198\u001B[0m \u001B[1;33m\u001B[0m\u001B[0m\n\u001B[0;32m    199\u001B[0m         \u001B[1;32mif\u001B[0m \u001B[0moffsets\u001B[0m \u001B[1;32mis\u001B[0m \u001B[1;32mnot\u001B[0m \u001B[1;32mNone\u001B[0m\u001B[1;33m:\u001B[0m\u001B[1;33m\u001B[0m\u001B[1;33m\u001B[0m\u001B[0m\n\u001B[1;32m--> 200\u001B[1;33m             \u001B[0moffsets\u001B[0m \u001B[1;33m=\u001B[0m \u001B[0mnp\u001B[0m\u001B[1;33m.\u001B[0m\u001B[0masanyarray\u001B[0m\u001B[1;33m(\u001B[0m\u001B[0moffsets\u001B[0m\u001B[1;33m,\u001B[0m \u001B[0mfloat\u001B[0m\u001B[1;33m)\u001B[0m\u001B[1;33m\u001B[0m\u001B[1;33m\u001B[0m\u001B[0m\n\u001B[0m\u001B[0;32m    201\u001B[0m             \u001B[1;31m# Broadcast (2,) -> (1, 2) but nothing else.\u001B[0m\u001B[1;33m\u001B[0m\u001B[1;33m\u001B[0m\u001B[0m\n\u001B[0;32m    202\u001B[0m             \u001B[1;32mif\u001B[0m \u001B[0moffsets\u001B[0m\u001B[1;33m.\u001B[0m\u001B[0mshape\u001B[0m \u001B[1;33m==\u001B[0m \u001B[1;33m(\u001B[0m\u001B[1;36m2\u001B[0m\u001B[1;33m,\u001B[0m\u001B[1;33m)\u001B[0m\u001B[1;33m:\u001B[0m\u001B[1;33m\u001B[0m\u001B[1;33m\u001B[0m\u001B[0m\n",
      "\u001B[1;31mValueError\u001B[0m: setting an array element with a sequence."
     ]
    },
    {
     "data": {
      "text/plain": "<Figure size 432x288 with 1 Axes>",
      "image/png": "[encoded data removed]"
     },
     "metadata": {
      "needs_background": "light"
     },
     "output_type": "display_data"
    }
   ],
   "source": [
    "plt.scatter(data[0,:], data[1,:],c='red')\n",
    "plt.show()"
   ]
  },
  {
   "cell_type": "code",
   "execution_count": null,
   "id": "b73f93b7",
   "metadata": {},
   "outputs": [],
   "source": []
  }
 ],
 "metadata": {
  "kernelspec": {
   "display_name": "Python 3 (ipykernel)",
   "language": "python",
   "name": "python3"
  },
  "language_info": {
   "codemirror_mode": {
    "name": "ipython",
    "version": 3
   },
   "file_extension": ".py",
   "mimetype": "text/x-python",
   "name": "python",
   "nbconvert_exporter": "python",
   "pygments_lexer": "ipython3",
   "version": "3.8.10"
  }
 },
 "nbformat": 4,
 "nbformat_minor": 5
}
