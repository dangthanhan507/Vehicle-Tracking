{
 "cells": [
  {
   "cell_type": "markdown",
   "id": "07f7a8fa",
   "metadata": {},
   "source": [
    "# Particle Filtering Gaussian State Space Model + ESS Resampling"
   ]
  },
  {
   "cell_type": "code",
   "execution_count": 1,
   "id": "8ec4ac92",
   "metadata": {},
   "outputs": [],
   "source": [
    "from DataUtils import DataInterface\n",
    "import numpy as np;\n",
    "import matplotlib.pyplot as plt;\n",
    "from mpl_toolkits import mplot3d;\n",
    "\n",
    "%matplotlib inline"
   ]
  },
  {
   "cell_type": "markdown",
   "id": "20567340",
   "metadata": {},
   "source": [
    "## Reading Sensor Data"
   ]
  },
  {
   "cell_type": "code",
   "execution_count": 2,
   "id": "64480f0b",
   "metadata": {},
   "outputs": [],
   "source": [
    "data_interface = DataInterface(\n",
    "    \"/home/an/workspace/Classes/Spring 2022/CS-179/Project/urban16/sensor_data/gps.csv\",\n",
    "    \"/home/an/workspace/Classes/Spring 2022/CS-179/Project/urban16/sensor_data/xsens_imu.csv\",\n",
    "    \"/home/an/workspace/Classes/Spring 2022/CS-179/Project/urban16/sensor_data/encoder.csv\"\n",
    ")"
   ]
  },
  {
   "cell_type": "code",
   "execution_count": 3,
   "id": "c177035e",
   "metadata": {},
   "outputs": [],
   "source": [
    "data = data_interface.read()"
   ]
  },
  {
   "cell_type": "code",
   "execution_count": 4,
   "id": "83db4726",
   "metadata": {},
   "outputs": [],
   "source": [
    "gps = data['gps_data']\n",
    "imu = data['imu_data']\n",
    "enc = data['encoders_data']"
   ]
  },
  {
   "cell_type": "code",
   "execution_count": 5,
   "id": "77adaf27",
   "metadata": {},
   "outputs": [],
   "source": [
    "R = 6_371_000 #earth's radius in meters\n",
    "lat0 = gps[1]\n",
    "lon0 = gps[2]\n",
    "z0 = gps[3]\n",
    "convert_lon = 1/R\n",
    "baseline = 1\n",
    "#8x8\n",
    "C = np.zeros(shape=(8,8), dtype=np.float32)\n",
    "\n",
    "#longitude\n",
    "C[0,0] = convert_lon\n",
    "#latitude\n",
    "C[1,1] = 1/R\n",
    "#altitude\n",
    "C[2,2] = 1\n",
    "\n",
    "#left encoder\n",
    "C[3,3] = 1\n",
    "C[3,4] = -baseline/2\n",
    "\n",
    "#right encoder\n",
    "C[4,3] = 1\n",
    "C[4,4] = baseline/2\n",
    "\n",
    "#yaw, pitch, roll\n",
    "C[5,5] = 180/np.pi\n",
    "C[6,6] = 180/np.pi\n",
    "C[7,7] = 180/np.pi"
   ]
  },
  {
   "cell_type": "markdown",
   "id": "1505782c",
   "metadata": {},
   "source": [
    "## Testing Parts of Gaussian Particle Filter"
   ]
  },
  {
   "cell_type": "code",
   "execution_count": 6,
   "id": "efe5e767",
   "metadata": {},
   "outputs": [],
   "source": [
    "gps_cov = gps[4:].reshape(3,3)"
   ]
  },
  {
   "cell_type": "markdown",
   "id": "8e3f73a6",
   "metadata": {},
   "source": [
    "### convert data -> measurement vector"
   ]
  },
  {
   "cell_type": "code",
   "execution_count": 7,
   "id": "ccc25d42",
   "metadata": {},
   "outputs": [],
   "source": [
    "left0,right0 = enc[1:3]"
   ]
  },
  {
   "cell_type": "code",
   "execution_count": 8,
   "id": "9bd6c069",
   "metadata": {
    "scrolled": false
   },
   "outputs": [
    {
     "name": "stdout",
     "output_type": "stream",
     "text": [
      "[[   0.        ]\n",
      " [   0.        ]\n",
      " [   0.        ]\n",
      " [   0.        ]\n",
      " [   0.        ]\n",
      " [-168.91395626]\n",
      " [  -0.2013542 ]\n",
      " [   0.63600743]]\n"
     ]
    }
   ],
   "source": [
    "# data -> (lon,lat,alt,left,right,yaw,pitch,roll)\n",
    "# meas_vector -> (x,y,z,v,w,yaw,pitch,roll)\n",
    "lat,lon,alt = gps[1:4]\n",
    "lat -= lat0\n",
    "lon -= lon0\n",
    "alt -= z0\n",
    "\n",
    "pitch, roll, yaw = imu[5:8]\n",
    "left,right = enc[1:3]\n",
    "\n",
    "left -= left0\n",
    "right -= right0\n",
    "\n",
    "y_t = np.array([[lon,lat,alt,left,right,yaw,pitch,roll]]).T\n",
    "print(y_t)"
   ]
  },
  {
   "cell_type": "code",
   "execution_count": 9,
   "id": "f74c4816",
   "metadata": {
    "scrolled": true
   },
   "outputs": [
    {
     "name": "stdout",
     "output_type": "stream",
     "text": [
      "[[ 0.        ]\n",
      " [ 0.        ]\n",
      " [ 0.        ]\n",
      " [ 0.        ]\n",
      " [ 0.        ]\n",
      " [-2.94810467]\n",
      " [-0.00351429]\n",
      " [ 0.01110042]]\n"
     ]
    }
   ],
   "source": [
    "print( np.linalg.inv(C) @ y_t ) #predicted state vector"
   ]
  },
  {
   "cell_type": "markdown",
   "id": "52f69929",
   "metadata": {},
   "source": [
    "### measurement matrix test"
   ]
  },
  {
   "cell_type": "code",
   "execution_count": 10,
   "id": "cc7d7f9b",
   "metadata": {},
   "outputs": [],
   "source": [
    "#measurement matrix test\n",
    "x0 = np.array([[50,100,5,10,20,np.pi/2,np.pi/8,0]]).T\n",
    "meas = C @ x0"
   ]
  },
  {
   "cell_type": "code",
   "execution_count": 11,
   "id": "2fa66b60",
   "metadata": {
    "scrolled": true
   },
   "outputs": [
    {
     "data": {
      "text/plain": [
       "array([[7.84806176e-06],\n",
       "       [1.56961235e-05],\n",
       "       [5.00000000e+00],\n",
       "       [0.00000000e+00],\n",
       "       [2.00000000e+01],\n",
       "       [9.00000011e+01],\n",
       "       [2.25000003e+01],\n",
       "       [0.00000000e+00]])"
      ]
     },
     "execution_count": 11,
     "metadata": {},
     "output_type": "execute_result"
    }
   ],
   "source": [
    "meas"
   ]
  },
  {
   "cell_type": "markdown",
   "id": "bd94efa8",
   "metadata": {},
   "source": [
    "### transition function test"
   ]
  },
  {
   "cell_type": "code",
   "execution_count": 12,
   "id": "4a339a4e",
   "metadata": {},
   "outputs": [],
   "source": [
    "def stateUpdate(state):\n",
    "    x,y,z,v,w,yaw,pitch,roll = state[:,0]\n",
    "    x = x + v*np.cos(pitch)*np.cos(yaw)\n",
    "    y = y + v*np.cos(pitch)*np.sin(yaw)\n",
    "    z = z + v*np.sin(pitch)\n",
    "    \n",
    "    yaw = yaw + w\n",
    "    pitch = pitch\n",
    "    roll = roll\n",
    "    state_ = np.array([[x,y,z,v,w,yaw,pitch,roll]]).T\n",
    "    return state_"
   ]
  },
  {
   "cell_type": "code",
   "execution_count": 13,
   "id": "fe3b93a2",
   "metadata": {
    "scrolled": false
   },
   "outputs": [
    {
     "data": {
      "text/plain": [
       "array([[ 50.        ],\n",
       "       [109.23879533],\n",
       "       [  8.82683432],\n",
       "       [ 10.        ],\n",
       "       [ 20.        ],\n",
       "       [ 21.57079633],\n",
       "       [  0.39269908],\n",
       "       [  0.        ]])"
      ]
     },
     "execution_count": 13,
     "metadata": {},
     "output_type": "execute_result"
    }
   ],
   "source": [
    "stateUpdate(x0)"
   ]
  },
  {
   "cell_type": "markdown",
   "id": "1e4997fa",
   "metadata": {},
   "source": [
    "### Particles Initialization"
   ]
  },
  {
   "cell_type": "code",
   "execution_count": 14,
   "id": "45e3b809",
   "metadata": {
    "scrolled": false
   },
   "outputs": [
    {
     "data": {
      "text/plain": [
       "array([[ 0.        ],\n",
       "       [ 0.        ],\n",
       "       [ 0.        ],\n",
       "       [ 0.        ],\n",
       "       [ 0.        ],\n",
       "       [-2.94810467],\n",
       "       [-0.00351429],\n",
       "       [ 0.01110042]])"
      ]
     },
     "execution_count": 14,
     "metadata": {},
     "output_type": "execute_result"
    }
   ],
   "source": [
    "np.linalg.inv(C) @ y_t"
   ]
  },
  {
   "cell_type": "code",
   "execution_count": 15,
   "id": "68d47560",
   "metadata": {},
   "outputs": [],
   "source": [
    "Q = np.eye(8,dtype=np.float32)*1\n",
    "Q_inv = np.linalg.inv(Q)\n",
    "\n",
    "R = np.eye(8,dtype=np.float32)*1\n",
    "R[0:3,0:3] = gps_cov\n",
    "R_inv = np.linalg.inv(R)\n",
    "\n",
    "sig0 = np.linalg.inv(Q_inv + C.T @ R_inv @ C)\n",
    "mu0  = sig0 @ ( C.T @ R_inv @ y_t )\n",
    "\n",
    "n_particles = 100\n",
    "particle = np.random.multivariate_normal(mu0.flatten(),sig0, size=(1))"
   ]
  },
  {
   "cell_type": "code",
   "execution_count": 16,
   "id": "dd33de96",
   "metadata": {},
   "outputs": [
    {
     "data": {
      "text/plain": [
       "array([[-0.49080761],\n",
       "       [ 0.15888972],\n",
       "       [ 0.4181976 ],\n",
       "       [ 0.25467168],\n",
       "       [ 1.83049925],\n",
       "       [-2.94556707],\n",
       "       [-0.01559017],\n",
       "       [ 0.00317331]])"
      ]
     },
     "execution_count": 16,
     "metadata": {},
     "output_type": "execute_result"
    }
   ],
   "source": [
    "particle.T"
   ]
  },
  {
   "cell_type": "code",
   "execution_count": 17,
   "id": "ab37736d",
   "metadata": {},
   "outputs": [
    {
     "name": "stdout",
     "output_type": "stream",
     "text": [
      "(100, 8)\n"
     ]
    }
   ],
   "source": [
    "particles = np.random.multivariate_normal(mu0.flatten(),sig0, size=(n_particles,))\n",
    "print(particles.shape)"
   ]
  },
  {
   "cell_type": "markdown",
   "id": "f3218e3f",
   "metadata": {},
   "source": [
    "### weight initialization"
   ]
  },
  {
   "cell_type": "code",
   "execution_count": 18,
   "id": "474b18ce",
   "metadata": {},
   "outputs": [],
   "source": [
    "pred = np.linalg.inv(C) @ y_t\n",
    "\n",
    "meas_pred_dist = (y_t - C@pred)\n",
    "weight = np.exp(-0.5 *  (meas_pred_dist.T @ np.linalg.inv(sig0) @ meas_pred_dist) )[0,0]"
   ]
  },
  {
   "cell_type": "code",
   "execution_count": 19,
   "id": "3e8d2eb5",
   "metadata": {},
   "outputs": [],
   "source": [
    "particles = np.random.multivariate_normal(mu0.flatten(),sig0, size=(n_particles,))\n",
    "weights = np.zeros((n_particles,), dtype=np.float32)\n",
    "w_sum = 0\n",
    "for i in range(n_particles):\n",
    "    x_t = particles[i,:].reshape(8,1)\n",
    "    \n",
    "    weights[i] = ((y_t - C@x_t).T @ np.linalg.inv(sig0) @ (y_t - C@x_t))[0,0]\n",
    "    w_sum += weights[i]\n",
    "weights /= w_sum"
   ]
  },
  {
   "cell_type": "code",
   "execution_count": 20,
   "id": "5aca547f",
   "metadata": {},
   "outputs": [
    {
     "data": {
      "text/plain": [
       "array([0.00299745, 0.00746176, 0.00880936, 0.00855721, 0.00820415,\n",
       "       0.00433727, 0.01670505, 0.01245251, 0.00021075, 0.01755461,\n",
       "       0.03428683, 0.01319843, 0.00256094, 0.01932883, 0.01003752,\n",
       "       0.02043088, 0.01322721, 0.01119738, 0.00877646, 0.02674945,\n",
       "       0.00249601, 0.00208359, 0.02508472, 0.01173167, 0.00896746,\n",
       "       0.00828128, 0.00318906, 0.00525393, 0.00701036, 0.01519036,\n",
       "       0.01342375, 0.01836158, 0.02060501, 0.01514728, 0.00871987,\n",
       "       0.00842884, 0.01270572, 0.00864877, 0.01161392, 0.00351868,\n",
       "       0.00017981, 0.0017112 , 0.00492918, 0.00106058, 0.01323944,\n",
       "       0.00385184, 0.01266787, 0.01001989, 0.01979101, 0.01040837,\n",
       "       0.00360585, 0.00499951, 0.00212411, 0.00566469, 0.01277203,\n",
       "       0.01094847, 0.00334502, 0.00281819, 0.00605965, 0.00978345,\n",
       "       0.00706051, 0.00433261, 0.0373181 , 0.00590218, 0.00526876,\n",
       "       0.00745874, 0.00118002, 0.01547349, 0.0069319 , 0.01435721,\n",
       "       0.00960424, 0.00754938, 0.00180264, 0.01749093, 0.00946449,\n",
       "       0.00526808, 0.02378223, 0.0072259 , 0.00304769, 0.01360719,\n",
       "       0.03078867, 0.00234112, 0.01253899, 0.00390726, 0.00437078,\n",
       "       0.0018559 , 0.00688809, 0.02809017, 0.01058041, 0.00481706,\n",
       "       0.00036981, 0.02329416, 0.00426234, 0.01714935, 0.00918389,\n",
       "       0.00120387, 0.00724795, 0.01084323, 0.00528265, 0.01333198],\n",
       "      dtype=float32)"
      ]
     },
     "execution_count": 20,
     "metadata": {},
     "output_type": "execute_result"
    }
   ],
   "source": [
    "weights"
   ]
  },
  {
   "cell_type": "markdown",
   "id": "cb61dfcd",
   "metadata": {},
   "source": [
    "### ESS Calculator"
   ]
  },
  {
   "cell_type": "code",
   "execution_count": 21,
   "id": "9f397c90",
   "metadata": {},
   "outputs": [
    {
     "name": "stdout",
     "output_type": "stream",
     "text": [
      "63.618340375495336\n"
     ]
    }
   ],
   "source": [
    "ESS = 1 / np.sum( weights**2 )\n",
    "print(ESS)"
   ]
  },
  {
   "cell_type": "markdown",
   "id": "1a0e50cd",
   "metadata": {},
   "source": [
    "### Make Initial Estimation and Visualize Particles"
   ]
  },
  {
   "cell_type": "code",
   "execution_count": 22,
   "id": "2e5c3ad9",
   "metadata": {},
   "outputs": [],
   "source": [
    "avg = np.sum( particles * weights.reshape(n_particles,1), axis=0)"
   ]
  },
  {
   "cell_type": "code",
   "execution_count": 23,
   "id": "e3a9a38b",
   "metadata": {
    "scrolled": false
   },
   "outputs": [
    {
     "data": {
      "text/plain": [
       "array([-8.10182336e-02,  7.28264327e-02,  2.20778455e-01, -4.35826088e-02,\n",
       "       -2.67523342e-01, -2.94642943e+00, -2.24914757e-03,  9.30019473e-03])"
      ]
     },
     "execution_count": 23,
     "metadata": {},
     "output_type": "execute_result"
    }
   ],
   "source": [
    "avg"
   ]
  },
  {
   "cell_type": "code",
   "execution_count": 27,
   "id": "631e5901",
   "metadata": {},
   "outputs": [
    {
     "name": "stdout",
     "output_type": "stream",
     "text": [
      "(100, 3)\n"
     ]
    },
    {
     "data": {
      "image/png": "[encoded data removed]",
      "text/plain": [
       "<Figure size 432x288 with 1 Axes>"
      ]
     },
     "metadata": {
      "needs_background": "light"
     },
     "output_type": "display_data"
    }
   ],
   "source": [
    "x0 = avg.reshape(8,1)\n",
    "data = particles[:,:3]\n",
    "print(data.shape)\n",
    "\n",
    "fig = plt.figure()\n",
    "ax = fig.add_subplot(projection='3d')\n",
    "\n",
    "ax.scatter(x0[0,:], x0[1,:], x0[2,:],c='blue')\n",
    "ax.scatter(data[:,0], data[:,1], data[:,2], c='red')\n",
    "plt.show()"
   ]
  },
  {
   "cell_type": "markdown",
   "id": "cf008212",
   "metadata": {},
   "source": [
    "### Predict based on previous State"
   ]
  },
  {
   "cell_type": "code",
   "execution_count": 28,
   "id": "f9635534",
   "metadata": {},
   "outputs": [
    {
     "data": {
      "text/plain": [
       "(100, 8)"
      ]
     },
     "execution_count": 28,
     "metadata": {},
     "output_type": "execute_result"
    }
   ],
   "source": [
    "particles.shape"
   ]
  },
  {
   "cell_type": "code",
   "execution_count": 29,
   "id": "f03775fb",
   "metadata": {},
   "outputs": [],
   "source": [
    "data = data_interface.read()\n",
    "gps = data['gps_data']\n",
    "imu = data['imu_data']\n",
    "enc = data['encoders_data']"
   ]
  },
  {
   "cell_type": "code",
   "execution_count": 30,
   "id": "6e1c6d2a",
   "metadata": {},
   "outputs": [
    {
     "name": "stdout",
     "output_type": "stream",
     "text": [
      "[[ 3.00000011e-07]\n",
      " [-3.99999998e-07]\n",
      " [ 6.20000000e-02]\n",
      " [ 0.00000000e+00]\n",
      " [ 0.00000000e+00]\n",
      " [-1.68914012e+02]\n",
      " [-1.99241344e-01]\n",
      " [ 6.31612644e-01]]\n"
     ]
    }
   ],
   "source": [
    "# data -> (lon,lat,alt,left,right,yaw,pitch,roll)\n",
    "# meas_vector -> (x,y,z,v,w,yaw,pitch,roll)\n",
    "lat,lon,alt = gps[1:4]\n",
    "lat -= lat0\n",
    "lon -= lon0\n",
    "alt -= z0\n",
    "\n",
    "pitch, roll, yaw = imu[5:8]\n",
    "left,right = enc[1:3]\n",
    "\n",
    "left -= left0\n",
    "right -= right0\n",
    "\n",
    "y_t = np.array([[lon,lat,alt,left,right,yaw,pitch,roll]]).T\n",
    "print(y_t)"
   ]
  },
  {
   "cell_type": "code",
   "execution_count": 31,
   "id": "3ae55fe2",
   "metadata": {},
   "outputs": [],
   "source": [
    "particles1 = np.zeros(particles.shape,dtype=np.float32)\n",
    "weights1 = np.zeros((n_particles,), dtype=np.float32)\n",
    "\n",
    "w_sum = 0\n",
    "for i in range(n_particles,):\n",
    "    f_x1 = stateUpdate(particles[i,:].reshape(8,1))\n",
    "    mu = sig0 @ (Q_inv@f_x1 + C.T @ R_inv @ y_t)\n",
    "    particles1[i,:] = np.random.multivariate_normal(mu.flatten(),sig0)\n",
    "    \n",
    "    weights1[i] = ((y_t - C@f_x1).T @ np.linalg.inv(sig0) @ (y_t - C@f_x1))[0,0]\n",
    "    w_sum += weights1[i]\n",
    "weights1 /= w_sum"
   ]
  },
  {
   "cell_type": "code",
   "execution_count": 32,
   "id": "8770a8d9",
   "metadata": {},
   "outputs": [
    {
     "data": {
      "text/plain": [
       "array([[ 1.38172434e+00],\n",
       "       [-1.99865163e-03],\n",
       "       [ 5.18574455e-01],\n",
       "       [ 7.85875441e-01],\n",
       "       [-3.28355207e-01],\n",
       "       [-2.97437139e+00],\n",
       "       [-6.98086743e-03],\n",
       "       [-1.19435351e-02]])"
      ]
     },
     "execution_count": 32,
     "metadata": {},
     "output_type": "execute_result"
    }
   ],
   "source": [
    "particles[i,:].reshape(8,1)"
   ]
  },
  {
   "cell_type": "code",
   "execution_count": 33,
   "id": "a40f4273",
   "metadata": {},
   "outputs": [
    {
     "data": {
      "text/plain": [
       "array([[ 0.6068299 ],\n",
       "       [-0.13279895],\n",
       "       [ 0.51308841],\n",
       "       [ 0.78587544],\n",
       "       [-0.32835521],\n",
       "       [-3.30272659],\n",
       "       [-0.00698087],\n",
       "       [-0.01194354]])"
      ]
     },
     "execution_count": 33,
     "metadata": {},
     "output_type": "execute_result"
    }
   ],
   "source": [
    "stateUpdate(particles[i,:].reshape(8,1))"
   ]
  },
  {
   "cell_type": "code",
   "execution_count": 37,
   "id": "479b7053",
   "metadata": {},
   "outputs": [
    {
     "name": "stdout",
     "output_type": "stream",
     "text": [
      "[-0.24330866 -0.24235979 -0.11798656  0.06076411 -0.7446521  -2.9465663\n",
      " -0.00646167  0.01240071]\n"
     ]
    }
   ],
   "source": [
    "avg1 = np.sum( particles1 * weights1.reshape(n_particles,1), axis=0)\n",
    "print(avg1)"
   ]
  },
  {
   "cell_type": "code",
   "execution_count": 38,
   "id": "12008a27",
   "metadata": {},
   "outputs": [
    {
     "name": "stdout",
     "output_type": "stream",
     "text": [
      "26.231089018061784\n"
     ]
    }
   ],
   "source": [
    "ESS1 = 1 / np.sum( weights1**2 )\n",
    "print(ESS1)"
   ]
  },
  {
   "cell_type": "code",
   "execution_count": 39,
   "id": "31fcb451",
   "metadata": {},
   "outputs": [
    {
     "name": "stdout",
     "output_type": "stream",
     "text": [
      "(100, 3)\n"
     ]
    },
    {
     "data": {
      "image/png": "[encoded data removed]",
      "text/plain": [
       "<Figure size 432x288 with 1 Axes>"
      ]
     },
     "metadata": {
      "needs_background": "light"
     },
     "output_type": "display_data"
    }
   ],
   "source": [
    "x0 = avg1.reshape(8,1)\n",
    "data = particles1[:,:3]\n",
    "print(data.shape)\n",
    "\n",
    "fig = plt.figure()\n",
    "ax = fig.add_subplot(projection='3d')\n",
    "\n",
    "ax.scatter(x0[0,:], x0[1,:], x0[2,:],c='blue')\n",
    "ax.scatter(data[:,0], data[:,1], data[:,2], c='red')\n",
    "plt.show()"
   ]
  },
  {
   "cell_type": "markdown",
   "id": "5a4c5059",
   "metadata": {},
   "source": [
    "### Resample"
   ]
  },
  {
   "cell_type": "code",
   "execution_count": 57,
   "id": "90095192",
   "metadata": {},
   "outputs": [],
   "source": [
    "def resample(weights, particles, n_particles):\n",
    "    #weights should be normalized\n",
    "    choices = np.random.choice( np.arange(n_particles), n_particles, p=weights)\n",
    "    particles_new = particles[choices,:]\n",
    "    weights_new = 1/n_particles + np.zeros(weights.shape,dtype=np.float32)\n",
    "    return weights_new, particles_new"
   ]
  },
  {
   "cell_type": "code",
   "execution_count": 50,
   "id": "7923b33d",
   "metadata": {},
   "outputs": [],
   "source": [
    "choices = np.random.choice( np.arange(n_particles), n_particles, p=weights1 )\n",
    "particles2 = particles1[choices, :]\n",
    "weights2 = 1/n_particles + np.zeros(weights1.shape,dtype=np.float32)"
   ]
  },
  {
   "cell_type": "code",
   "execution_count": 54,
   "id": "f7fe5393",
   "metadata": {},
   "outputs": [
    {
     "name": "stdout",
     "output_type": "stream",
     "text": [
      "100.00002086163002\n"
     ]
    }
   ],
   "source": [
    "ESS2 = 1 / np.sum( weights2**2 )\n",
    "print(ESS2)"
   ]
  },
  {
   "cell_type": "code",
   "execution_count": 56,
   "id": "72335618",
   "metadata": {},
   "outputs": [
    {
     "name": "stdout",
     "output_type": "stream",
     "text": [
      "[-0.2121216  -0.42971933 -0.19690984  0.12207516 -0.88960695 -2.9470592\n",
      " -0.0059156   0.01350647]\n"
     ]
    }
   ],
   "source": [
    "avg2 = np.sum( particles2 * weights2.reshape(n_particles,1), axis=0)\n",
    "print(avg2)"
   ]
  },
  {
   "cell_type": "markdown",
   "id": "16c8ce4e",
   "metadata": {},
   "source": [
    "## Full Gaussian Particle Filter Implementation"
   ]
  },
  {
   "cell_type": "code",
   "execution_count": null,
   "id": "5712772b",
   "metadata": {},
   "outputs": [],
   "source": [
    "class GaussianParticleFilter:\n",
    "    def __init__(self, systemCov, measCov, stateUpdate, measMatrix, initialMeas, n_particles=100):\n",
    "        '''\n",
    "            systemCov = State Update Covariance Matrix\n",
    "            measCov = Measurement Covariance Matrix (Sensor Covariances)\n",
    "            stateUpdate = python function that takes in previous state and predicts next state\n",
    "            measMatrix = matrix that converts state vector to measurement vector\n",
    "            initialState = starting off state\n",
    "        '''\n",
    "        \n",
    "        #standard setting up A,C,Q,R\n",
    "        self.stateUpdate = stateUpdate\n",
    "        self.Q = systemCov\n",
    "        self.R = measCov\n",
    "        self.C = measMatrix\n",
    "        \n",
    "        self.x0 = initialState\n",
    "        self.y0 = initialMeas\n",
    "        \n",
    "        #setup for easier computation\n",
    "        Q_inv = np.linalg.inv(self.Q)\n",
    "        R_inv = np.linalg.inv(self.R)\n",
    "        \n",
    "        self.sig = np.linalg.inv(self.C.T @ R_inv @ self.C)\n",
    "        \n",
    "        #initial Mu\n",
    "        mu0  = sig0 @ ( self.C.T @ R_inv @ self.y0)\n",
    "        \n",
    "        #initialize particles\n",
    "        self.particle_states = np.random.multivariate_normal(mu0,self.sig,size=(n_particles,))\n",
    "        self.weights = np.zeros(self.particle_states.shape, dtype=np.float32)\n",
    "        inv_cov = np.linalg.inv( self.Q + C @ self.R @ C.T )\n",
    "        sum_weights = 0\n",
    "        for i in range(n_particles):\n",
    "            x_est = self.particle_states[i]\n",
    "            weight = np.exp( -0.5 * (self.y0 - self.C @ x_est).T @ (inv_cov) @ (self.y0 - self.C @ x_est) )\n",
    "            self.weights[i] = weight\n",
    "            sum_weights += weight\n",
    "        self.weights /= sum_weights #normalize weights\n",
    "        \n",
    "        self.n_particles = n_particles\n",
    "        self.ESS = None\n",
    "        \n",
    "    def update(self, measVector):\n",
    "        inv_cov = np.linalg.inv( self.Q + C @ self.R @ C.T )\n",
    "        Q_inv = np.linalg.inv(self.Q)\n",
    "        R_inv = np.linalg.inv(self.R)\n",
    "        sum_weights = 0\n",
    "        for i in range(n_particles):\n",
    "            f_x1 = self.stateUpdate( self.particle_states[i] )\n",
    "            \n",
    "            mu = self.sig @ (Q_inv @ f_x1 + C.T @ R_inv @ measVector)\n",
    "            \n",
    "            particle = np.random.multivariate_normal(mu,self.sig)\n",
    "            \n",
    "            weight = np.exp( -0.5 * (measVector - self.C @ f_x1).T @ (inv_cov) @ (measVector - self.C @ f_x1) )\n",
    "            self.weights[i] = weight\n",
    "            self.particle_states[i] = particle\n",
    "            sum_weights += weight\n",
    "        self.weights /= sum_weights #normalize weights\n",
    "        \n",
    "    def calcESS(self):\n",
    "        sum_normals = 0\n",
    "        for i in range(n_parcles):\n",
    "            sum_normals += self.weights[i]**2\n",
    "        self.ESS = 1 / sum_normals   \n",
    "        \n",
    "        return self.ESS\n",
    "    def resample(self):\n",
    "        pass\n",
    "    def getEstimate(self):\n",
    "        avg = np.zeros(self.particle_states[0].shape,dtype=np.float32)\n",
    "        for i in range(self.n_particles):\n",
    "            avg += self.weights[i]*self.particle_states[i]\n",
    "        return avg"
   ]
  },
  {
   "cell_type": "code",
   "execution_count": null,
   "id": "64851da3",
   "metadata": {},
   "outputs": [],
   "source": []
  }
 ],
 "metadata": {
  "kernelspec": {
   "display_name": "Python 3 (ipykernel)",
   "language": "python",
   "name": "python3"
  },
  "language_info": {
   "codemirror_mode": {
    "name": "ipython",
    "version": 3
   },
   "file_extension": ".py",
   "mimetype": "text/x-python",
   "name": "python",
   "nbconvert_exporter": "python",
   "pygments_lexer": "ipython3",
   "version": "3.8.10"
  }
 },
 "nbformat": 4,
 "nbformat_minor": 5
}
