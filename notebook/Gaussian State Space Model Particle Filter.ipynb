{
 "cells": [
  {
   "cell_type": "markdown",
   "id": "07f7a8fa",
   "metadata": {},
   "source": [
    "# Particle Filtering Gaussian State Space Model + ESS Resampling"
   ]
  },
  {
   "cell_type": "code",
   "execution_count": 1,
   "id": "8ec4ac92",
   "metadata": {},
   "outputs": [],
   "source": [
    "from DataUtils import DataInterface\n",
    "import numpy as np;\n",
    "import matplotlib.pyplot as plt;\n",
    "from mpl_toolkits import mplot3d;\n",
    "\n",
    "%matplotlib inline"
   ]
  },
  {
   "cell_type": "markdown",
   "id": "20567340",
   "metadata": {},
   "source": [
    "## Reading Sensor Data"
   ]
  },
  {
   "cell_type": "code",
   "execution_count": 2,
   "id": "64480f0b",
   "metadata": {},
   "outputs": [],
   "source": [
    "data_interface = DataInterface(\n",
    "    \"/home/an/workspace/Classes/Spring 2022/CS-179/Project/urban16/sensor_data/gps.csv\",\n",
    "    \"/home/an/workspace/Classes/Spring 2022/CS-179/Project/urban16/sensor_data/xsens_imu.csv\",\n",
    "    \"/home/an/workspace/Classes/Spring 2022/CS-179/Project/urban16/sensor_data/encoder.csv\"\n",
    ")"
   ]
  },
  {
   "cell_type": "code",
   "execution_count": 3,
   "id": "c177035e",
   "metadata": {},
   "outputs": [],
   "source": [
    "data = data_interface.read()"
   ]
  },
  {
   "cell_type": "code",
   "execution_count": 4,
   "id": "83db4726",
   "metadata": {},
   "outputs": [],
   "source": [
    "gps = data['gps_data']\n",
    "imu = data['imu_data']\n",
    "enc = data['encoders_data']"
   ]
  },
  {
   "cell_type": "code",
   "execution_count": 5,
   "id": "77adaf27",
   "metadata": {},
   "outputs": [],
   "source": [
    "R = 6_371_000 #earth's radius in meters\n",
    "lat0 = gps[1]\n",
    "lon0 = gps[2]\n",
    "z0 = gps[3]\n",
    "convert_lon = 1/R\n",
    "baseline = 1\n",
    "#8x8\n",
    "C = np.zeros(shape=(8,8), dtype=np.float32)\n",
    "\n",
    "#longitude\n",
    "C[0,0] = convert_lon\n",
    "#latitude\n",
    "C[1,1] = 1/R\n",
    "#altitude\n",
    "C[2,2] = 1\n",
    "\n",
    "#left encoder\n",
    "C[3,3] = 1\n",
    "C[3,4] = -baseline/2\n",
    "\n",
    "#right encoder\n",
    "C[4,3] = 1\n",
    "C[4,4] = baseline/2\n",
    "\n",
    "#yaw, pitch, roll\n",
    "C[5,5] = 180/np.pi\n",
    "C[6,6] = 180/np.pi\n",
    "C[7,7] = 180/np.pi"
   ]
  },
  {
   "cell_type": "markdown",
   "id": "1505782c",
   "metadata": {},
   "source": [
    "## Testing Parts of Gaussian Particle Filter"
   ]
  },
  {
   "cell_type": "code",
   "execution_count": 6,
   "id": "efe5e767",
   "metadata": {},
   "outputs": [],
   "source": [
    "gps_cov = gps[4:].reshape(3,3)"
   ]
  },
  {
   "cell_type": "markdown",
   "id": "8e3f73a6",
   "metadata": {},
   "source": [
    "### convert data -> measurement vector"
   ]
  },
  {
   "cell_type": "code",
   "execution_count": 7,
   "id": "ccc25d42",
   "metadata": {},
   "outputs": [],
   "source": [
    "left0,right0 = enc[1:3]"
   ]
  },
  {
   "cell_type": "code",
   "execution_count": 8,
   "id": "9bd6c069",
   "metadata": {
    "scrolled": false
   },
   "outputs": [
    {
     "name": "stdout",
     "output_type": "stream",
     "text": [
      "[[   0.        ]\n",
      " [   0.        ]\n",
      " [   0.        ]\n",
      " [   0.        ]\n",
      " [   0.        ]\n",
      " [-168.91395626]\n",
      " [  -0.2013542 ]\n",
      " [   0.63600743]]\n"
     ]
    }
   ],
   "source": [
    "# data -> (lon,lat,alt,left,right,yaw,pitch,roll)\n",
    "# meas_vector -> (x,y,z,v,w,yaw,pitch,roll)\n",
    "lat,lon,alt = gps[1:4]\n",
    "lat -= lat0\n",
    "lon -= lon0\n",
    "alt -= z0\n",
    "\n",
    "pitch, roll, yaw = imu[5:8]\n",
    "left,right = enc[1:3]\n",
    "\n",
    "left -= left0\n",
    "right -= right0\n",
    "\n",
    "y_t = np.array([[lon,lat,alt,left,right,yaw,pitch,roll]]).T\n",
    "print(y_t)"
   ]
  },
  {
   "cell_type": "code",
   "execution_count": 9,
   "id": "f74c4816",
   "metadata": {
    "scrolled": true
   },
   "outputs": [
    {
     "name": "stdout",
     "output_type": "stream",
     "text": [
      "[[ 0.        ]\n",
      " [ 0.        ]\n",
      " [ 0.        ]\n",
      " [ 0.        ]\n",
      " [ 0.        ]\n",
      " [-2.94810467]\n",
      " [-0.00351429]\n",
      " [ 0.01110042]]\n"
     ]
    }
   ],
   "source": [
    "print( np.linalg.inv(C) @ y_t ) #predicted state vector"
   ]
  },
  {
   "cell_type": "markdown",
   "id": "52f69929",
   "metadata": {},
   "source": [
    "### measurement matrix test"
   ]
  },
  {
   "cell_type": "code",
   "execution_count": 10,
   "id": "cc7d7f9b",
   "metadata": {},
   "outputs": [],
   "source": [
    "#measurement matrix test\n",
    "x0 = np.array([[50,100,5,10,20,np.pi/2,np.pi/8,0]]).T\n",
    "meas = C @ x0"
   ]
  },
  {
   "cell_type": "code",
   "execution_count": 11,
   "id": "2fa66b60",
   "metadata": {
    "scrolled": true
   },
   "outputs": [
    {
     "data": {
      "text/plain": [
       "array([[7.84806176e-06],\n",
       "       [1.56961235e-05],\n",
       "       [5.00000000e+00],\n",
       "       [0.00000000e+00],\n",
       "       [2.00000000e+01],\n",
       "       [9.00000011e+01],\n",
       "       [2.25000003e+01],\n",
       "       [0.00000000e+00]])"
      ]
     },
     "execution_count": 11,
     "metadata": {},
     "output_type": "execute_result"
    }
   ],
   "source": [
    "meas"
   ]
  },
  {
   "cell_type": "markdown",
   "id": "bd94efa8",
   "metadata": {},
   "source": [
    "### transition function test"
   ]
  },
  {
   "cell_type": "code",
   "execution_count": 12,
   "id": "4a339a4e",
   "metadata": {},
   "outputs": [],
   "source": [
    "def stateUpdate(state):\n",
    "    x,y,z,v,w,yaw,pitch,roll = state[:,0]\n",
    "    x = x + v*np.cos(pitch)*np.cos(yaw)\n",
    "    y = y + v*np.cos(pitch)*np.sin(yaw)\n",
    "    z = z + v*np.sin(pitch)\n",
    "    \n",
    "    yaw = yaw + w\n",
    "    pitch = pitch\n",
    "    roll = roll\n",
    "    state_ = np.array([[x,y,z,v,w,yaw,pitch,roll]]).T\n",
    "    return state_"
   ]
  },
  {
   "cell_type": "code",
   "execution_count": 13,
   "id": "fe3b93a2",
   "metadata": {
    "scrolled": false
   },
   "outputs": [
    {
     "data": {
      "text/plain": [
       "array([[ 50.        ],\n",
       "       [109.23879533],\n",
       "       [  8.82683432],\n",
       "       [ 10.        ],\n",
       "       [ 20.        ],\n",
       "       [ 21.57079633],\n",
       "       [  0.39269908],\n",
       "       [  0.        ]])"
      ]
     },
     "execution_count": 13,
     "metadata": {},
     "output_type": "execute_result"
    }
   ],
   "source": [
    "stateUpdate(x0)"
   ]
  },
  {
   "cell_type": "markdown",
   "id": "1e4997fa",
   "metadata": {},
   "source": [
    "### Particles Initialization"
   ]
  },
  {
   "cell_type": "code",
   "execution_count": 14,
   "id": "45e3b809",
   "metadata": {
    "scrolled": false
   },
   "outputs": [
    {
     "data": {
      "text/plain": [
       "array([[ 0.        ],\n",
       "       [ 0.        ],\n",
       "       [ 0.        ],\n",
       "       [ 0.        ],\n",
       "       [ 0.        ],\n",
       "       [-2.94810467],\n",
       "       [-0.00351429],\n",
       "       [ 0.01110042]])"
      ]
     },
     "execution_count": 14,
     "metadata": {},
     "output_type": "execute_result"
    }
   ],
   "source": [
    "np.linalg.inv(C) @ y_t"
   ]
  },
  {
   "cell_type": "code",
   "execution_count": 15,
   "id": "68d47560",
   "metadata": {},
   "outputs": [],
   "source": [
    "Q = np.eye(8,dtype=np.float32)*1\n",
    "Q_inv = np.linalg.inv(Q)\n",
    "\n",
    "R = np.eye(8,dtype=np.float32)*1\n",
    "R[0:3,0:3] = gps_cov\n",
    "R_inv = np.linalg.inv(R)\n",
    "\n",
    "sig0 = np.linalg.inv(Q_inv + C.T @ R_inv @ C)\n",
    "mu0  = sig0 @ ( C.T @ R_inv @ y_t )\n",
    "\n",
    "n_particles = 100\n",
    "particle = np.random.multivariate_normal(mu0.flatten(),sig0, size=(1))"
   ]
  },
  {
   "cell_type": "code",
   "execution_count": 16,
   "id": "dd33de96",
   "metadata": {},
   "outputs": [
    {
     "data": {
      "text/plain": [
       "array([[ 0.03928531],\n",
       "       [-0.96918348],\n",
       "       [-1.32345048],\n",
       "       [-0.31232493],\n",
       "       [-0.63420959],\n",
       "       [-2.974336  ],\n",
       "       [-0.01058306],\n",
       "       [ 0.02069629]])"
      ]
     },
     "execution_count": 16,
     "metadata": {},
     "output_type": "execute_result"
    }
   ],
   "source": [
    "particle.T"
   ]
  },
  {
   "cell_type": "code",
   "execution_count": 17,
   "id": "ab37736d",
   "metadata": {},
   "outputs": [
    {
     "name": "stdout",
     "output_type": "stream",
     "text": [
      "(100, 8)\n"
     ]
    }
   ],
   "source": [
    "particles = np.random.multivariate_normal(mu0.flatten(),sig0, size=(n_particles,))\n",
    "print(particles.shape)"
   ]
  },
  {
   "cell_type": "markdown",
   "id": "f3218e3f",
   "metadata": {},
   "source": [
    "### weight initialization"
   ]
  },
  {
   "cell_type": "code",
   "execution_count": 18,
   "id": "474b18ce",
   "metadata": {},
   "outputs": [],
   "source": [
    "pred = np.linalg.inv(C) @ y_t\n",
    "\n",
    "meas_pred_dist = (y_t - C@pred)\n",
    "weight = np.exp(-0.5 *  (meas_pred_dist.T @ np.linalg.inv(sig0) @ meas_pred_dist) )[0,0]"
   ]
  },
  {
   "cell_type": "code",
   "execution_count": 19,
   "id": "3e8d2eb5",
   "metadata": {},
   "outputs": [],
   "source": [
    "particles = np.random.multivariate_normal(mu0.flatten(),sig0, size=(n_particles,))\n",
    "weights = np.zeros((n_particles,), dtype=np.float32)\n",
    "w_sum = 0\n",
    "for i in range(n_particles):\n",
    "    x_t = particles[i,:].reshape(8,1)\n",
    "    \n",
    "    weights[i] = ((y_t - C@x_t).T @ np.linalg.inv(sig0) @ (y_t - C@x_t))[0,0]\n",
    "    w_sum += weights[i]\n",
    "weights /= w_sum"
   ]
  },
  {
   "cell_type": "code",
   "execution_count": 20,
   "id": "5aca547f",
   "metadata": {},
   "outputs": [
    {
     "data": {
      "text/plain": [
       "array([0.00211797, 0.01135579, 0.01027404, 0.00877733, 0.03060352,\n",
       "       0.00887904, 0.00212242, 0.01474918, 0.00041503, 0.0201167 ,\n",
       "       0.01614642, 0.01198393, 0.00769153, 0.00866248, 0.00765492,\n",
       "       0.01968986, 0.00576304, 0.00840105, 0.0063026 , 0.00459413,\n",
       "       0.01688119, 0.01334787, 0.00592472, 0.00444352, 0.02475924,\n",
       "       0.02645873, 0.00948779, 0.00494738, 0.0121595 , 0.009897  ,\n",
       "       0.00096335, 0.02100362, 0.0088615 , 0.01113091, 0.01736438,\n",
       "       0.00491217, 0.01629687, 0.00400101, 0.00520618, 0.00745235,\n",
       "       0.00177775, 0.00319987, 0.00561497, 0.01649168, 0.01277888,\n",
       "       0.02605812, 0.00159525, 0.01140818, 0.03043352, 0.00229028,\n",
       "       0.00704476, 0.00285668, 0.00689599, 0.00988909, 0.0068302 ,\n",
       "       0.00831795, 0.01125015, 0.0092509 , 0.01113387, 0.00972785,\n",
       "       0.00851405, 0.01013221, 0.00587851, 0.01400904, 0.00673214,\n",
       "       0.0063863 , 0.01808709, 0.0038255 , 0.00215064, 0.0020801 ,\n",
       "       0.00300659, 0.00182579, 0.00996348, 0.03434106, 0.01227186,\n",
       "       0.0146891 , 0.0090571 , 0.00532608, 0.00117881, 0.00489848,\n",
       "       0.01548435, 0.00270698, 0.01442943, 0.01224011, 0.01721374,\n",
       "       0.01536374, 0.01045174, 0.00637328, 0.0036444 , 0.01097541,\n",
       "       0.00363739, 0.02088514, 0.02013402, 0.00461838, 0.00147763,\n",
       "       0.00660561, 0.00056444, 0.01312743, 0.01347191, 0.00559474],\n",
       "      dtype=float32)"
      ]
     },
     "execution_count": 20,
     "metadata": {},
     "output_type": "execute_result"
    }
   ],
   "source": [
    "weights"
   ]
  },
  {
   "cell_type": "markdown",
   "id": "cb61dfcd",
   "metadata": {},
   "source": [
    "### ESS Calculator"
   ]
  },
  {
   "cell_type": "code",
   "execution_count": 21,
   "id": "9f397c90",
   "metadata": {},
   "outputs": [
    {
     "name": "stdout",
     "output_type": "stream",
     "text": [
      "66.79588353819634\n"
     ]
    }
   ],
   "source": [
    "ESS = 1 / np.sum( weights**2 )\n",
    "print(ESS)"
   ]
  },
  {
   "cell_type": "markdown",
   "id": "1a0e50cd",
   "metadata": {},
   "source": [
    "### Make Initial Estimation and Visualize Particles"
   ]
  },
  {
   "cell_type": "code",
   "execution_count": 22,
   "id": "2e5c3ad9",
   "metadata": {},
   "outputs": [],
   "source": [
    "avg = np.sum( particles * weights.reshape(n_particles,1), axis=0)"
   ]
  },
  {
   "cell_type": "code",
   "execution_count": 23,
   "id": "e3a9a38b",
   "metadata": {
    "scrolled": false
   },
   "outputs": [
    {
     "data": {
      "text/plain": [
       "array([ 0.13261205, -0.02691394,  0.0381515 , -0.06967574, -0.00513643,\n",
       "       -2.94764648, -0.00651277,  0.01089095])"
      ]
     },
     "execution_count": 23,
     "metadata": {},
     "output_type": "execute_result"
    }
   ],
   "source": [
    "avg"
   ]
  },
  {
   "cell_type": "code",
   "execution_count": 24,
   "id": "631e5901",
   "metadata": {},
   "outputs": [
    {
     "name": "stdout",
     "output_type": "stream",
     "text": [
      "(100, 3)\n"
     ]
    },
    {
     "data": {
      "image/png": "[encoded data removed]",
      "text/plain": [
       "<Figure size 432x288 with 1 Axes>"
      ]
     },
     "metadata": {
      "needs_background": "light"
     },
     "output_type": "display_data"
    }
   ],
   "source": [
    "x0 = avg.reshape(8,1)\n",
    "data = particles[:,:3]\n",
    "print(data.shape)\n",
    "\n",
    "fig = plt.figure()\n",
    "ax = fig.add_subplot(projection='3d')\n",
    "\n",
    "ax.scatter(x0[0,:], x0[1,:], x0[2,:],c='blue')\n",
    "ax.scatter(data[:,0], data[:,1], data[:,2], c='red')\n",
    "plt.show()"
   ]
  },
  {
   "cell_type": "markdown",
   "id": "cf008212",
   "metadata": {},
   "source": [
    "### Predict based on previous State"
   ]
  },
  {
   "cell_type": "code",
   "execution_count": 25,
   "id": "f9635534",
   "metadata": {},
   "outputs": [
    {
     "data": {
      "text/plain": [
       "(100, 8)"
      ]
     },
     "execution_count": 25,
     "metadata": {},
     "output_type": "execute_result"
    }
   ],
   "source": [
    "particles.shape"
   ]
  },
  {
   "cell_type": "code",
   "execution_count": 26,
   "id": "f03775fb",
   "metadata": {},
   "outputs": [],
   "source": [
    "data = data_interface.read()\n",
    "gps = data['gps_data']\n",
    "imu = data['imu_data']\n",
    "enc = data['encoders_data']"
   ]
  },
  {
   "cell_type": "code",
   "execution_count": 27,
   "id": "6e1c6d2a",
   "metadata": {},
   "outputs": [
    {
     "name": "stdout",
     "output_type": "stream",
     "text": [
      "[[ 3.00000011e-07]\n",
      " [-3.99999998e-07]\n",
      " [ 6.20000000e-02]\n",
      " [ 0.00000000e+00]\n",
      " [ 0.00000000e+00]\n",
      " [-1.68914012e+02]\n",
      " [-1.99241344e-01]\n",
      " [ 6.31612644e-01]]\n"
     ]
    }
   ],
   "source": [
    "# data -> (lon,lat,alt,left,right,yaw,pitch,roll)\n",
    "# meas_vector -> (x,y,z,v,w,yaw,pitch,roll)\n",
    "lat,lon,alt = gps[1:4]\n",
    "lat -= lat0\n",
    "lon -= lon0\n",
    "alt -= z0\n",
    "\n",
    "pitch, roll, yaw = imu[5:8]\n",
    "left,right = enc[1:3]\n",
    "\n",
    "left -= left0\n",
    "right -= right0\n",
    "\n",
    "y_t = np.array([[lon,lat,alt,left,right,yaw,pitch,roll]]).T\n",
    "print(y_t)"
   ]
  },
  {
   "cell_type": "code",
   "execution_count": 28,
   "id": "3ae55fe2",
   "metadata": {},
   "outputs": [],
   "source": [
    "particles1 = np.zeros(particles.shape,dtype=np.float32)\n",
    "weights1 = np.zeros((n_particles,), dtype=np.float32)\n",
    "\n",
    "w_sum = 0\n",
    "for i in range(n_particles,):\n",
    "    f_x1 = stateUpdate(particles[i,:].reshape(8,1))\n",
    "    mu = sig0 @ (Q_inv@f_x1 + C.T @ R_inv @ y_t)\n",
    "    particles1[i,:] = np.random.multivariate_normal(mu.flatten(),sig0)\n",
    "    \n",
    "    weights1[i] = ((y_t - C@f_x1).T @ np.linalg.inv(sig0) @ (y_t - C@f_x1))[0,0]\n",
    "    w_sum += weights1[i]\n",
    "weights1 /= w_sum"
   ]
  },
  {
   "cell_type": "code",
   "execution_count": 29,
   "id": "8770a8d9",
   "metadata": {},
   "outputs": [
    {
     "data": {
      "text/plain": [
       "array([[-0.42180187],\n",
       "       [-0.04340489],\n",
       "       [-0.76025072],\n",
       "       [-0.43964571],\n",
       "       [-0.83118382],\n",
       "       [-2.95401114],\n",
       "       [ 0.00877393],\n",
       "       [ 0.02942733]])"
      ]
     },
     "execution_count": 29,
     "metadata": {},
     "output_type": "execute_result"
    }
   ],
   "source": [
    "particles[i,:].reshape(8,1)"
   ]
  },
  {
   "cell_type": "code",
   "execution_count": 30,
   "id": "a40f4273",
   "metadata": {},
   "outputs": [
    {
     "data": {
      "text/plain": [
       "array([[ 0.010115  ],\n",
       "       [ 0.03857858],\n",
       "       [-0.7641081 ],\n",
       "       [-0.43964571],\n",
       "       [-0.83118382],\n",
       "       [-3.78519496],\n",
       "       [ 0.00877393],\n",
       "       [ 0.02942733]])"
      ]
     },
     "execution_count": 30,
     "metadata": {},
     "output_type": "execute_result"
    }
   ],
   "source": [
    "stateUpdate(particles[i,:].reshape(8,1))"
   ]
  },
  {
   "cell_type": "code",
   "execution_count": 31,
   "id": "479b7053",
   "metadata": {},
   "outputs": [
    {
     "name": "stdout",
     "output_type": "stream",
     "text": [
      "[-0.02663841  0.5891841   0.05266249 -0.08635305  0.18016136 -2.9471686\n",
      " -0.00699655  0.014736  ]\n"
     ]
    }
   ],
   "source": [
    "avg1 = np.sum( particles1 * weights1.reshape(n_particles,1), axis=0)\n",
    "print(avg1)"
   ]
  },
  {
   "cell_type": "code",
   "execution_count": 32,
   "id": "12008a27",
   "metadata": {},
   "outputs": [
    {
     "name": "stdout",
     "output_type": "stream",
     "text": [
      "32.66722289343714\n"
     ]
    }
   ],
   "source": [
    "ESS1 = 1 / np.sum( weights1**2 )\n",
    "print(ESS1)"
   ]
  },
  {
   "cell_type": "code",
   "execution_count": 33,
   "id": "31fcb451",
   "metadata": {},
   "outputs": [
    {
     "name": "stdout",
     "output_type": "stream",
     "text": [
      "(100, 3)\n"
     ]
    },
    {
     "data": {
      "image/png": "[encoded data removed]",
      "text/plain": [
       "<Figure size 432x288 with 1 Axes>"
      ]
     },
     "metadata": {
      "needs_background": "light"
     },
     "output_type": "display_data"
    }
   ],
   "source": [
    "x0 = avg1.reshape(8,1)\n",
    "data = particles1[:,:3]\n",
    "print(data.shape)\n",
    "\n",
    "fig = plt.figure()\n",
    "ax = fig.add_subplot(projection='3d')\n",
    "\n",
    "ax.scatter(x0[0,:], x0[1,:], x0[2,:],c='blue')\n",
    "ax.scatter(data[:,0], data[:,1], data[:,2], c='red')\n",
    "plt.show()"
   ]
  },
  {
   "cell_type": "markdown",
   "id": "5a4c5059",
   "metadata": {},
   "source": [
    "### Resample"
   ]
  },
  {
   "cell_type": "code",
   "execution_count": 34,
   "id": "90095192",
   "metadata": {},
   "outputs": [],
   "source": [
    "def resample(weights, particles, n_particles):\n",
    "    #weights should be normalized\n",
    "    choices = np.random.choice( np.arange(n_particles), n_particles, p=weights)\n",
    "    particles_new = particles[choices,:]\n",
    "    weights_new = 1/n_particles + np.zeros(weights.shape,dtype=np.float32)\n",
    "    return weights_new, particles_new"
   ]
  },
  {
   "cell_type": "code",
   "execution_count": 35,
   "id": "7923b33d",
   "metadata": {},
   "outputs": [],
   "source": [
    "choices = np.random.choice( np.arange(n_particles), n_particles, p=weights1 )\n",
    "particles2 = particles1[choices, :]\n",
    "weights2 = 1/n_particles + np.zeros(weights1.shape,dtype=np.float32)"
   ]
  },
  {
   "cell_type": "code",
   "execution_count": 36,
   "id": "f7fe5393",
   "metadata": {},
   "outputs": [
    {
     "name": "stdout",
     "output_type": "stream",
     "text": [
      "100.00002086163002\n"
     ]
    }
   ],
   "source": [
    "ESS2 = 1 / np.sum( weights2**2 )\n",
    "print(ESS2)"
   ]
  },
  {
   "cell_type": "code",
   "execution_count": 37,
   "id": "72335618",
   "metadata": {},
   "outputs": [
    {
     "name": "stdout",
     "output_type": "stream",
     "text": [
      "[ 0.04089234  0.8018762   0.29421437 -0.18577394  0.15824579 -2.9468834\n",
      " -0.00595258  0.01085242]\n"
     ]
    }
   ],
   "source": [
    "avg2 = np.sum( particles2 * weights2.reshape(n_particles,1), axis=0)\n",
    "print(avg2)"
   ]
  },
  {
   "cell_type": "markdown",
   "id": "16c8ce4e",
   "metadata": {},
   "source": [
    "## Full Gaussian Particle Filter Implementation"
   ]
  },
  {
   "cell_type": "code",
   "execution_count": 38,
   "id": "c1bda07d",
   "metadata": {},
   "outputs": [],
   "source": [
    "class SensorReader:\n",
    "    def __init__(self, radiusOfEarth, encoder_resolution, encoder_diameterL, encoder_diameterR):\n",
    "        self.data_interface = DataInterface(\n",
    "            \"/home/an/workspace/Classes/Spring 2022/CS-179/Project/urban16/sensor_data/gps.csv\",\n",
    "            \"/home/an/workspace/Classes/Spring 2022/CS-179/Project/urban16/sensor_data/xsens_imu.csv\",\n",
    "            \"/home/an/workspace/Classes/Spring 2022/CS-179/Project/urban16/sensor_data/encoder.csv\"\n",
    "        )\n",
    "        # data -> (lon,lat,alt,left,right,yaw,pitch,roll)\n",
    "        self.R = radiusOfEarth\n",
    "        self.res = encoder_resolution\n",
    "        self.angle_to_rad = np.pi/180\n",
    "        self.enc_radL = encoder_diameterL / 2\n",
    "        self.enc_radR = encoder_diameterR / 2\n",
    "        \n",
    "        self.init_data = self.parse(self.data_interface.read())\n",
    "        self.meas = self.init_data.copy()\n",
    "        self.meas[0:5] = 0 #re-init\n",
    "        \n",
    "    def parse(self, data):\n",
    "        gps = data['gps_data']\n",
    "        imu = data['imu_data']\n",
    "        enc = data['encoders_data']\n",
    "        lat,lon,alt = gps[1:4]\n",
    "        pitch, roll, yaw = imu[5:8]\n",
    "        left,right = enc[1:3]\n",
    "        \n",
    "        lat = lat*np.pi/180*R\n",
    "        lon = lon*np.pi/180*R\n",
    "        left = left * 2*np.pi/self.res * self.enc_radL\n",
    "        right = right * 2*np.pi/self.res * self.enc_radR\n",
    "        \n",
    "        pitch = pitch * np.pi / 180\n",
    "        yaw = yaw * np.pi / 180\n",
    "        roll = roll * np.pi / 180\n",
    "        return np.array([[lon,lat,alt,left,right,yaw,pitch,roll]]).T\n",
    "    def read(self):\n",
    "        self.meas = self.parse(self.data_interface.read())\n",
    "        self.meas[0:5] -= self.init_data[0:5]\n",
    "        return self.meas"
   ]
  },
  {
   "cell_type": "code",
   "execution_count": 39,
   "id": "53aa78b8",
   "metadata": {},
   "outputs": [],
   "source": [
    "R = 6_371_000 #earth's radius in meters\n",
    "encDiamL = 0.623022\n",
    "encDiamR = 0.622356\n",
    "res = 4096\n",
    "wheelbase = 1.5285\n",
    "\n",
    "sensors = SensorReader(R, res, encDiamL, encDiamR)"
   ]
  },
  {
   "cell_type": "code",
   "execution_count": 40,
   "id": "d2a25d7b",
   "metadata": {},
   "outputs": [],
   "source": [
    "data = np.array([[0,0,0,0,0,0,0,0]]).T\n",
    "for i in range(5_000):\n",
    "    data = np.hstack((data,sensors.read()))"
   ]
  },
  {
   "cell_type": "code",
   "execution_count": 41,
   "id": "bfc0608b",
   "metadata": {},
   "outputs": [
    {
     "data": {
      "image/png": "[encoded data removed]",
      "text/plain": [
       "<Figure size 432x288 with 1 Axes>"
      ]
     },
     "metadata": {
      "needs_background": "light"
     },
     "output_type": "display_data"
    }
   ],
   "source": [
    "fig = plt.figure()\n",
    "ax = fig.add_subplot(projection='3d')\n",
    "\n",
    "ax.scatter(data[0,:], data[1,:], data[2,:], c='red')\n",
    "plt.show()"
   ]
  },
  {
   "cell_type": "code",
   "execution_count": 42,
   "id": "53c5a688",
   "metadata": {},
   "outputs": [
    {
     "data": {
      "image/png": "[encoded data removed]",
      "text/plain": [
       "<Figure size 432x288 with 1 Axes>"
      ]
     },
     "metadata": {
      "needs_background": "light"
     },
     "output_type": "display_data"
    }
   ],
   "source": [
    "plt.scatter(data[0,:], data[1,:],c='red')\n",
    "plt.show()"
   ]
  },
  {
   "cell_type": "code",
   "execution_count": 43,
   "id": "5712772b",
   "metadata": {},
   "outputs": [],
   "source": [
    "class GaussianParticleFilter:\n",
    "    def __init__(self, systemCov, measCov, stateUpdate, measMatrix, initialMeas, n_particles=100, resample_thresh=20):\n",
    "        '''\n",
    "            systemCov = State Update Covariance Matrix\n",
    "            measCov = Measurement Covariance Matrix (Sensor Covariances)\n",
    "            stateUpdate = python function that takes in previous state and predicts next state\n",
    "            measMatrix = matrix that converts state vector to measurement vector\n",
    "            initialState = starting off state\n",
    "        '''\n",
    "        #init covariances\n",
    "        self.Q = systemCov\n",
    "        self.Q_inv = np.linalg.inv(self.Q)\n",
    "        self.R = measCov\n",
    "        self.R_inv = np.linalg.inv(self.R)\n",
    "        \n",
    "        #measurements\n",
    "        self.C = measMatrix\n",
    "        self.initialMeas = initialMeas\n",
    "        self.n_particles = n_particles\n",
    "        \n",
    "        #init stateUpdates\n",
    "        self.stateUpdate = stateUpdate\n",
    "        \n",
    "        #init paricles\n",
    "        self.particles = np.zeros(shape=(n_particles,systemCov.shape[0]), dtype=np.float32)\n",
    "        self.weights = np.zeros(shape=(n_particles,),dtype=np.float32)\n",
    "        \n",
    "        self.resample_thresh = resample_thresh\n",
    "        for i in range(n_particles):\n",
    "            self.particles[i] = self.initialMeas.flatten()\n",
    "            self.weights[i] = 1/n_particles\n",
    "        self.ESS = 1 / np.sum( self.weights**2 )\n",
    "        \n",
    "        \n",
    "        self.sig0 = np.linalg.inv(self.Q_inv + self.C.T @ self.R_inv @ self.C)\n",
    "    def convert_meas_to_state(self, meas):\n",
    "        return np.linalg.inv(self.C)@meas\n",
    "    def predict(self, meas):\n",
    "        y_t = self.convert_meas_to_state(meas)\n",
    "        particles1 = np.zeros(self.particles.shape,dtype=np.float32)\n",
    "        weights1 = np.zeros((self.n_particles,), dtype=np.float32)\n",
    "        \n",
    "        w_sum = 0\n",
    "        for i in range(n_particles):\n",
    "            f_x1 = self.stateUpdate(self.particles[i,:].reshape(8,1))\n",
    "            mu = self.sig0 @ (self.Q_inv@f_x1 + self.C.T @ self.R_inv @ y_t)\n",
    "            particles1[i,:] = np.random.multivariate_normal(mu.flatten(),self.sig0)\n",
    "\n",
    "            weights1[i] = ((y_t - self.C@f_x1).T @ np.linalg.inv(self.sig0) @ (y_t - self.C@f_x1))[0,0]\n",
    "            w_sum += weights1[i]\n",
    "        weights1 /= w_sum\n",
    "        self.particles = particles1\n",
    "        self.weights = weights1\n",
    "        \n",
    "        self.ESS = 1 / np.sum( self.weights**2 )\n",
    "        \n",
    "        if self.ESS < self.resample_thresh:\n",
    "            self.resample()\n",
    "\n",
    "    def estimate(self):\n",
    "        return np.sum( self.particles * self.weights.reshape(n_particles,1), axis=0)\n",
    "    def resample(self):\n",
    "        choices = np.random.choice( np.arange(self.n_particles), self.n_particles, p=self.weights)\n",
    "        particles_new = self.particles[choices,:]\n",
    "        weights_new = 1/self.n_particles + np.zeros(self.weights.shape,dtype=np.float32)\n",
    "        \n",
    "        self.particles = particles_new\n",
    "        self.weights = weights_new\n",
    "        \n",
    "        self.ESS = 1 / np.sum( self.weights**2 )"
   ]
  },
  {
   "cell_type": "code",
   "execution_count": 44,
   "id": "64851da3",
   "metadata": {},
   "outputs": [],
   "source": [
    "def stateUpdate(state):\n",
    "    x,y,z,v,w,yaw,pitch,roll = state[:,0]\n",
    "    x = x + v*np.cos(pitch)*np.cos(yaw)\n",
    "    y = y + v*np.cos(pitch)*np.sin(yaw)\n",
    "    z = z + v*np.sin(pitch)\n",
    "    \n",
    "    yaw = yaw + w\n",
    "    pitch = pitch\n",
    "    roll = roll\n",
    "    state_ = np.array([[x,y,z,v,w,yaw,pitch,roll]]).T\n",
    "    return state_"
   ]
  },
  {
   "cell_type": "code",
   "execution_count": 45,
   "id": "9604e55a",
   "metadata": {},
   "outputs": [],
   "source": [
    "C = np.zeros(shape=(8,8), dtype=np.float32)\n",
    "#longitude\n",
    "C[0,0] = 1\n",
    "#latitude\n",
    "C[1,1] = 1\n",
    "#altitude\n",
    "C[2,2] = 1\n",
    "\n",
    "#left encoder\n",
    "C[3,3] = 1\n",
    "C[3,4] = -baseline/2\n",
    "\n",
    "#right encoder\n",
    "C[4,3] = 1\n",
    "C[4,4] = baseline/2\n",
    "\n",
    "#yaw, pitch, roll\n",
    "C[5,5] = 1\n",
    "C[6,6] = 1\n",
    "C[7,7] = 1"
   ]
  },
  {
   "cell_type": "code",
   "execution_count": 46,
   "id": "62c7aacc",
   "metadata": {},
   "outputs": [
    {
     "data": {
      "text/plain": [
       "array([[37.564641,  0.      ,  0.      ],\n",
       "       [ 0.      , 37.564641,  0.      ],\n",
       "       [ 0.      ,  0.      , 31.911201]])"
      ]
     },
     "execution_count": 46,
     "metadata": {},
     "output_type": "execute_result"
    }
   ],
   "source": [
    "gps_cov"
   ]
  },
  {
   "cell_type": "code",
   "execution_count": 47,
   "id": "8af1d3e1",
   "metadata": {},
   "outputs": [],
   "source": [
    "R = 6_371_000 #earth's radius in meters\n",
    "encDiamL = 0.623022\n",
    "encDiamR = 0.622356\n",
    "res = 4096\n",
    "wheelbase = 1.5285\n",
    "\n",
    "sensors = SensorReader(R, res, encDiamL, encDiamR)"
   ]
  },
  {
   "cell_type": "code",
   "execution_count": 48,
   "id": "1bb29249",
   "metadata": {},
   "outputs": [],
   "source": [
    "systemCov = np.eye(8)*1\n",
    "measCov = np.eye(8)*1"
   ]
  },
  {
   "cell_type": "code",
   "execution_count": 49,
   "id": "2a4e7a35",
   "metadata": {},
   "outputs": [],
   "source": [
    "measCov[0:3,0:3] = gps_cov"
   ]
  },
  {
   "cell_type": "code",
   "execution_count": 50,
   "id": "255dff47",
   "metadata": {},
   "outputs": [],
   "source": [
    "pf = GaussianParticleFilter(systemCov,measCov, stateUpdate, C, sensors.read() )"
   ]
  },
  {
   "cell_type": "code",
   "execution_count": 51,
   "id": "bfc20911",
   "metadata": {},
   "outputs": [],
   "source": [
    "data = pf.estimate().reshape(8,1)\n",
    "for i in range(5_000):\n",
    "    reading = sensors.read()\n",
    "    pf.predict(reading)\n",
    "    data = np.hstack((data,pf.estimate().reshape(8,1)))"
   ]
  },
  {
   "cell_type": "code",
   "execution_count": 52,
   "id": "f70925c8",
   "metadata": {},
   "outputs": [
    {
     "data": {
      "image/png": "[encoded data removed]",
      "text/plain": [
       "<Figure size 432x288 with 1 Axes>"
      ]
     },
     "metadata": {
      "needs_background": "light"
     },
     "output_type": "display_data"
    }
   ],
   "source": [
    "fig = plt.figure()\n",
    "ax = fig.add_subplot(projection='3d')\n",
    "\n",
    "ax.scatter(data[0,:], data[1,:], data[2,:], c='red')\n",
    "plt.show()"
   ]
  },
  {
   "cell_type": "code",
   "execution_count": 53,
   "id": "0a1dc4a5",
   "metadata": {},
   "outputs": [
    {
     "data": {
      "image/png": "[encoded data removed]",
      "text/plain": [
       "<Figure size 432x288 with 1 Axes>"
      ]
     },
     "metadata": {
      "needs_background": "light"
     },
     "output_type": "display_data"
    }
   ],
   "source": [
    "plt.scatter(data[0,:], data[1,:],c='red')\n",
    "plt.show()"
   ]
  },
  {
   "cell_type": "markdown",
   "id": "790942aa",
   "metadata": {},
   "source": [
    "## Compare with Ground Truth"
   ]
  },
  {
   "cell_type": "code",
   "execution_count": null,
   "id": "93903737",
   "metadata": {},
   "outputs": [],
   "source": []
  }
 ],
 "metadata": {
  "kernelspec": {
   "display_name": "Python 3 (ipykernel)",
   "language": "python",
   "name": "python3"
  },
  "language_info": {
   "codemirror_mode": {
    "name": "ipython",
    "version": 3
   },
   "file_extension": ".py",
   "mimetype": "text/x-python",
   "name": "python",
   "nbconvert_exporter": "python",
   "pygments_lexer": "ipython3",
   "version": "3.8.10"
  }
 },
 "nbformat": 4,
 "nbformat_minor": 5
}
