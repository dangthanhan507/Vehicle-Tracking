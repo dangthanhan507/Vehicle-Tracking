{
 "cells": [
  {
   "cell_type": "markdown",
   "id": "07f7a8fa",
   "metadata": {},
   "source": [
    "# Particle Filtering Gaussian State Space Model + ESS Resampling"
   ]
  },
  {
   "cell_type": "code",
   "execution_count": 1,
   "id": "8ec4ac92",
   "metadata": {},
   "outputs": [],
   "source": [
    "from DataUtils import DataInterface\n",
    "import numpy as np;\n",
    "import matplotlib.pyplot as plt;\n",
    "from mpl_toolkits import mplot3d;\n",
    "\n",
    "%matplotlib inline"
   ]
  },
  {
   "cell_type": "markdown",
   "id": "20567340",
   "metadata": {},
   "source": [
    "## Reading Sensor Data"
   ]
  },
  {
   "cell_type": "code",
   "execution_count": 3,
   "id": "64480f0b",
   "metadata": {},
   "outputs": [],
   "source": [
    "data_interface = DataInterface(\n",
    "    \"/home/an/workspace/Classes/Spring 2022/CS-179/Project/urban16/sensor_data/gps.csv\",\n",
    "    \"/home/an/workspace/Classes/Spring 2022/CS-179/Project/urban16/sensor_data/xsens_imu.csv\",\n",
    "    \"/home/an/workspace/Classes/Spring 2022/CS-179/Project/urban16/sensor_data/encoder.csv\"\n",
    ")"
   ]
  },
  {
   "cell_type": "code",
   "execution_count": 4,
   "id": "c177035e",
   "metadata": {},
   "outputs": [],
   "source": [
    "data = data_interface.read()"
   ]
  },
  {
   "cell_type": "code",
   "execution_count": 8,
   "id": "83db4726",
   "metadata": {},
   "outputs": [],
   "source": [
    "gps = data['gps_data']\n",
    "imu = data['imu_data']\n",
    "enc = data['encoders_data']"
   ]
  },
  {
   "cell_type": "code",
   "execution_count": 63,
   "id": "77adaf27",
   "metadata": {},
   "outputs": [],
   "source": [
    "R = 6_371_000 #earth's radius in meters\n",
    "lat0 = gps[1]\n",
    "lon0 = gps[2]\n",
    "z0 = gps[3]\n",
    "convert_lon = 1/R\n",
    "baseline = 1\n",
    "#8x8\n",
    "C = np.zeros(shape=(8,8), dtype=np.float32)\n",
    "\n",
    "#longitude\n",
    "C[0,0] = convert_lon\n",
    "#latitude\n",
    "C[1,1] = 1/R\n",
    "#altitude\n",
    "C[2,2] = 1\n",
    "\n",
    "#left encoder\n",
    "C[3,3] = 1\n",
    "C[3,4] = -baseline/2\n",
    "\n",
    "#right encoder\n",
    "C[4,3] = 1\n",
    "C[4,4] = baseline/2\n",
    "\n",
    "#yaw, pitch, roll\n",
    "C[5,5] = 180/np.pi\n",
    "C[6,6] = 180/np.pi\n",
    "C[7,7] = 180/np.pi"
   ]
  },
  {
   "cell_type": "markdown",
   "id": "1505782c",
   "metadata": {},
   "source": [
    "## Testing Parts of Gaussian Particle Filter"
   ]
  },
  {
   "cell_type": "code",
   "execution_count": 38,
   "id": "6d43e284",
   "metadata": {},
   "outputs": [],
   "source": [
    "gps_cov = gps[4:].reshape(3,3)"
   ]
  },
  {
   "cell_type": "markdown",
   "id": "207c6a53",
   "metadata": {},
   "source": [
    "### convert data -> measurement vector"
   ]
  },
  {
   "cell_type": "code",
   "execution_count": 135,
   "id": "c2c0c2f0",
   "metadata": {},
   "outputs": [],
   "source": [
    "left0,right0 = enc[1:3]"
   ]
  },
  {
   "cell_type": "code",
   "execution_count": 136,
   "id": "e00bd837",
   "metadata": {
    "scrolled": false
   },
   "outputs": [
    {
     "name": "stdout",
     "output_type": "stream",
     "text": [
      "[[   0.        ]\n",
      " [   0.        ]\n",
      " [   0.        ]\n",
      " [   0.        ]\n",
      " [   0.        ]\n",
      " [-168.91395626]\n",
      " [  -0.2013542 ]\n",
      " [   0.63600743]]\n"
     ]
    }
   ],
   "source": [
    "# data -> (lon,lat,alt,left,right,yaw,pitch,roll)\n",
    "# meas_vector -> (x,y,z,v,w,yaw,pitch,roll)\n",
    "lat,lon,alt = gps[1:4]\n",
    "lat -= lat0\n",
    "lon -= lon0\n",
    "alt -= z0\n",
    "\n",
    "pitch, roll, yaw = imu[5:8]\n",
    "left,right = enc[1:3]\n",
    "\n",
    "left -= left0\n",
    "right -= right0\n",
    "\n",
    "y_t = np.array([[lon,lat,alt,left,right,yaw,pitch,roll]]).T\n",
    "print(y_t)"
   ]
  },
  {
   "cell_type": "code",
   "execution_count": 152,
   "id": "f9a9c59c",
   "metadata": {
    "scrolled": true
   },
   "outputs": [
    {
     "name": "stdout",
     "output_type": "stream",
     "text": [
      "[[ 0.        ]\n",
      " [ 0.        ]\n",
      " [ 0.        ]\n",
      " [ 0.        ]\n",
      " [ 0.        ]\n",
      " [-2.94810467]\n",
      " [-0.00351429]\n",
      " [ 0.01110042]]\n"
     ]
    }
   ],
   "source": [
    "print( np.linalg.inv(C) @ y_t ) #predicted state vector"
   ]
  },
  {
   "cell_type": "markdown",
   "id": "a9543bb6",
   "metadata": {},
   "source": [
    "### measurement matrix test"
   ]
  },
  {
   "cell_type": "code",
   "execution_count": 138,
   "id": "6fcd5f8f",
   "metadata": {},
   "outputs": [],
   "source": [
    "#measurement matrix test\n",
    "x0 = np.array([[50,100,5,10,20,np.pi/2,np.pi/8,0]]).T\n",
    "meas = C @ x0"
   ]
  },
  {
   "cell_type": "code",
   "execution_count": 139,
   "id": "94afc0f9",
   "metadata": {
    "scrolled": true
   },
   "outputs": [
    {
     "data": {
      "text/plain": [
       "array([[7.84806176e-06],\n",
       "       [1.56961235e-05],\n",
       "       [5.00000000e+00],\n",
       "       [0.00000000e+00],\n",
       "       [2.00000000e+01],\n",
       "       [9.00000011e+01],\n",
       "       [2.25000003e+01],\n",
       "       [0.00000000e+00]])"
      ]
     },
     "execution_count": 139,
     "metadata": {},
     "output_type": "execute_result"
    }
   ],
   "source": [
    "meas"
   ]
  },
  {
   "cell_type": "markdown",
   "id": "faabe33f",
   "metadata": {},
   "source": [
    "### transition function test"
   ]
  },
  {
   "cell_type": "code",
   "execution_count": 140,
   "id": "d1970c3a",
   "metadata": {},
   "outputs": [],
   "source": [
    "def stateUpdate(state):\n",
    "    x,y,z,v,w,yaw,pitch,roll = state[:,0]\n",
    "    x = x + v*np.cos(pitch)*np.cos(yaw)\n",
    "    y = y + v*np.cos(pitch)*np.sin(yaw)\n",
    "    z = z + v*np.sin(pitch)\n",
    "    \n",
    "    yaw = yaw + w\n",
    "    pitch = pitch\n",
    "    roll = roll\n",
    "    state_ = np.array([[x,y,z,v,w,yaw,pitch,roll]]).T\n",
    "    return state_"
   ]
  },
  {
   "cell_type": "code",
   "execution_count": 141,
   "id": "fe3b93a2",
   "metadata": {
    "scrolled": false
   },
   "outputs": [
    {
     "data": {
      "text/plain": [
       "array([[ 50.        ],\n",
       "       [109.23879533],\n",
       "       [  8.82683432],\n",
       "       [ 10.        ],\n",
       "       [ 20.        ],\n",
       "       [ 21.57079633],\n",
       "       [  0.39269908],\n",
       "       [  0.        ]])"
      ]
     },
     "execution_count": 141,
     "metadata": {},
     "output_type": "execute_result"
    }
   ],
   "source": [
    "stateUpdate(x0)"
   ]
  },
  {
   "cell_type": "markdown",
   "id": "2b353d0f",
   "metadata": {},
   "source": [
    "### Particles Initialization"
   ]
  },
  {
   "cell_type": "code",
   "execution_count": 191,
   "id": "83a9bfdf",
   "metadata": {
    "scrolled": false
   },
   "outputs": [
    {
     "data": {
      "text/plain": [
       "array([[ 0.        ],\n",
       "       [ 0.        ],\n",
       "       [ 0.        ],\n",
       "       [ 0.        ],\n",
       "       [ 0.        ],\n",
       "       [-2.94810467],\n",
       "       [-0.00351429],\n",
       "       [ 0.01110042]])"
      ]
     },
     "execution_count": 191,
     "metadata": {},
     "output_type": "execute_result"
    }
   ],
   "source": [
    "np.linalg.inv(C) @ y_t"
   ]
  },
  {
   "cell_type": "code",
   "execution_count": 200,
   "id": "654fe68d",
   "metadata": {},
   "outputs": [],
   "source": [
    "Q = np.eye(8,dtype=np.float32)*1\n",
    "Q_inv = np.linalg.inv(Q)\n",
    "\n",
    "R = np.eye(8,dtype=np.float32)*1\n",
    "R[0:3,0:3] = gps_cov\n",
    "R_inv = np.linalg.inv(R)\n",
    "\n",
    "sig0 = np.linalg.inv(Q_inv + C.T @ R_inv @ C)\n",
    "mu0  = sig0 @ ( C.T @ R_inv @ y_t )\n",
    "\n",
    "n_particles = 100\n",
    "particle = np.random.multivariate_normal(mu0.flatten(),sig0, size=(1))"
   ]
  },
  {
   "cell_type": "code",
   "execution_count": 201,
   "id": "61a2fd4c",
   "metadata": {},
   "outputs": [
    {
     "data": {
      "text/plain": [
       "array([[ 0.26792008],\n",
       "       [ 1.19489949],\n",
       "       [ 0.19783384],\n",
       "       [ 0.86580264],\n",
       "       [-0.06786221],\n",
       "       [-2.94307601],\n",
       "       [ 0.01776052],\n",
       "       [-0.00714322]])"
      ]
     },
     "execution_count": 201,
     "metadata": {},
     "output_type": "execute_result"
    }
   ],
   "source": [
    "particle.T"
   ]
  },
  {
   "cell_type": "code",
   "execution_count": 202,
   "id": "4cc82b46",
   "metadata": {},
   "outputs": [
    {
     "name": "stdout",
     "output_type": "stream",
     "text": [
      "(100, 8)\n"
     ]
    }
   ],
   "source": [
    "particles = np.random.multivariate_normal(mu0.flatten(),sig0, size=(n_particles,))\n",
    "print(particles.shape)"
   ]
  },
  {
   "cell_type": "markdown",
   "id": "78c2f27d",
   "metadata": {},
   "source": [
    "### weight initialization"
   ]
  },
  {
   "cell_type": "code",
   "execution_count": 203,
   "id": "031daf2c",
   "metadata": {},
   "outputs": [],
   "source": [
    "pred = np.linalg.inv(C) @ y_t\n",
    "\n",
    "meas_pred_dist = (y_t - C@pred)\n",
    "weight = np.exp(-0.5 *  (meas_pred_dist.T @ np.linalg.inv(sig0) @ meas_pred_dist) )[0,0]"
   ]
  },
  {
   "cell_type": "code",
   "execution_count": 204,
   "id": "615feb3c",
   "metadata": {},
   "outputs": [],
   "source": [
    "particles = np.random.multivariate_normal(mu0.flatten(),sig0, size=(n_particles,))\n",
    "weights = np.zeros((n_particles,), dtype=np.float32)\n",
    "w_sum = 0\n",
    "for i in range(n_particles):\n",
    "    x_t = particles[i,:].reshape(8,1)\n",
    "    \n",
    "    weights[i] = ((y_t - C@x_t).T @ np.linalg.inv(sig0) @ (y_t - C@x_t))[0,0]\n",
    "    w_sum += weights[i]\n",
    "weights /= w_sum"
   ]
  },
  {
   "cell_type": "code",
   "execution_count": 205,
   "id": "3ccb631c",
   "metadata": {},
   "outputs": [
    {
     "data": {
      "text/plain": [
       "array([0.0058889 , 0.00597619, 0.00392213, 0.00244542, 0.00273   ,\n",
       "       0.02690526, 0.0180385 , 0.00588423, 0.00547877, 0.01266975,\n",
       "       0.0044848 , 0.00389862, 0.00388151, 0.00805521, 0.02076542,\n",
       "       0.01175709, 0.00625002, 0.01432009, 0.01733617, 0.03486006,\n",
       "       0.00744261, 0.00648139, 0.01141597, 0.00578911, 0.00393801,\n",
       "       0.01025887, 0.00331567, 0.0121462 , 0.00135095, 0.01881763,\n",
       "       0.01142744, 0.00279454, 0.01156397, 0.00979129, 0.0024518 ,\n",
       "       0.00556138, 0.01682503, 0.01138375, 0.00682339, 0.0149658 ,\n",
       "       0.01193875, 0.01573511, 0.00590061, 0.00699359, 0.00115944,\n",
       "       0.00863901, 0.00446634, 0.00504485, 0.00280024, 0.00215529,\n",
       "       0.01352596, 0.00697158, 0.00460721, 0.00864204, 0.00328706,\n",
       "       0.01478305, 0.00699332, 0.0075496 , 0.01029221, 0.0053674 ,\n",
       "       0.00282281, 0.00264397, 0.01746348, 0.01682925, 0.00687911,\n",
       "       0.00104168, 0.0052379 , 0.00733488, 0.00506254, 0.00457984,\n",
       "       0.0106075 , 0.00714257, 0.01693321, 0.00269008, 0.01782586,\n",
       "       0.00179098, 0.0073334 , 0.00111345, 0.00304128, 0.01131766,\n",
       "       0.00380377, 0.01611363, 0.01397959, 0.00817598, 0.00981827,\n",
       "       0.03088783, 0.0050835 , 0.01771054, 0.00676865, 0.00760783,\n",
       "       0.02112929, 0.01118103, 0.02229219, 0.00601626, 0.00864899,\n",
       "       0.01619814, 0.03565783, 0.02849375, 0.01549404, 0.02830182],\n",
       "      dtype=float32)"
      ]
     },
     "execution_count": 205,
     "metadata": {},
     "output_type": "execute_result"
    }
   ],
   "source": [
    "weights"
   ]
  },
  {
   "cell_type": "markdown",
   "id": "f04ae5fd",
   "metadata": {},
   "source": [
    "### ESS Calculator"
   ]
  },
  {
   "cell_type": "code",
   "execution_count": 206,
   "id": "51b035f8",
   "metadata": {},
   "outputs": [
    {
     "name": "stdout",
     "output_type": "stream",
     "text": [
      "64.29010069807457\n"
     ]
    }
   ],
   "source": [
    "ESS = 1 / np.sum( weights**2 )\n",
    "print(ESS)"
   ]
  },
  {
   "cell_type": "markdown",
   "id": "8bcc2a01",
   "metadata": {},
   "source": [
    "### Make Prediction and Visualize Particles"
   ]
  },
  {
   "cell_type": "code",
   "execution_count": 207,
   "id": "4e33aa25",
   "metadata": {},
   "outputs": [],
   "source": [
    "avg = np.sum( particles * weights.reshape(n_particles,1), axis=0)"
   ]
  },
  {
   "cell_type": "code",
   "execution_count": 209,
   "id": "aa15e468",
   "metadata": {
    "scrolled": false
   },
   "outputs": [
    {
     "data": {
      "text/plain": [
       "array([-1.09045298e-02,  1.42785121e-01, -1.68207370e-03,  1.20044716e-02,\n",
       "       -7.06817627e-04, -2.95156910e+00, -2.83626960e-03,  8.83430934e-03])"
      ]
     },
     "execution_count": 209,
     "metadata": {},
     "output_type": "execute_result"
    }
   ],
   "source": [
    "avg"
   ]
  },
  {
   "cell_type": "code",
   "execution_count": 212,
   "id": "7b773ec3",
   "metadata": {},
   "outputs": [
    {
     "name": "stdout",
     "output_type": "stream",
     "text": [
      "(100, 3)\n"
     ]
    },
    {
     "data": {
      "image/png": "[encoded data removed]",
      "text/plain": [
       "<Figure size 432x288 with 1 Axes>"
      ]
     },
     "metadata": {
      "needs_background": "light"
     },
     "output_type": "display_data"
    }
   ],
   "source": [
    "x0 = np.linalg.inv(C) @ y_t\n",
    "\n",
    "data = particles[:,:3]\n",
    "print(data.shape)\n",
    "\n",
    "fig = plt.figure()\n",
    "ax = fig.add_subplot(projection='3d')\n",
    "\n",
    "ax.scatter(x0[0,:], x0[1,:], x0[2,:],c='blue')\n",
    "ax.scatter(data[:,0], data[:,1], data[:,2], c='red')\n",
    "plt.show()"
   ]
  },
  {
   "cell_type": "code",
   "execution_count": null,
   "id": "01198114",
   "metadata": {},
   "outputs": [],
   "source": []
  },
  {
   "cell_type": "markdown",
   "id": "16c8ce4e",
   "metadata": {},
   "source": [
    "## Full Gaussian Particle Filter Implementation"
   ]
  },
  {
   "cell_type": "code",
   "execution_count": 36,
   "id": "5712772b",
   "metadata": {},
   "outputs": [],
   "source": [
    "class GaussianParticleFilter:\n",
    "    def __init__(self, systemCov, measCov, stateUpdate, measMatrix, initialMeas, n_particles=100):\n",
    "        '''\n",
    "            systemCov = State Update Covariance Matrix\n",
    "            measCov = Measurement Covariance Matrix (Sensor Covariances)\n",
    "            stateUpdate = python function that takes in previous state and predicts next state\n",
    "            measMatrix = matrix that converts state vector to measurement vector\n",
    "            initialState = starting off state\n",
    "        '''\n",
    "        \n",
    "        #standard setting up A,C,Q,R\n",
    "        self.stateUpdate = stateUpdate\n",
    "        self.Q = systemCov\n",
    "        self.R = measCov\n",
    "        self.C = measMatrix\n",
    "        \n",
    "        self.x0 = initialState\n",
    "        self.y0 = initialMeas\n",
    "        \n",
    "        #setup for easier computation\n",
    "        Q_inv = np.linalg.inv(self.Q)\n",
    "        R_inv = np.linalg.inv(self.R)\n",
    "        \n",
    "        self.sig = np.linalg.inv(self.C.T @ R_inv @ self.C)\n",
    "        \n",
    "        #initial Mu\n",
    "        mu0  = sig0 @ ( self.C.T @ R_inv @ self.y0)\n",
    "        \n",
    "        #initialize particles\n",
    "        self.particle_states = np.random.multivariate_normal(mu0,self.sig,size=(n_particles,))\n",
    "        self.weights = np.zeros(self.particle_states.shape, dtype=np.float32)\n",
    "        inv_cov = np.linalg.inv( self.Q + C @ self.R @ C.T )\n",
    "        sum_weights = 0\n",
    "        for i in range(n_particles):\n",
    "            x_est = self.particle_states[i]\n",
    "            weight = np.exp( -0.5 * (self.y0 - self.C @ x_est).T @ (inv_cov) @ (self.y0 - self.C @ x_est) )\n",
    "            self.weights[i] = weight\n",
    "            sum_weights += weight\n",
    "        self.weights /= sum_weights #normalize weights\n",
    "        \n",
    "        self.n_particles = n_particles\n",
    "        self.ESS = None\n",
    "        \n",
    "    def update(self, measVector):\n",
    "        inv_cov = np.linalg.inv( self.Q + C @ self.R @ C.T )\n",
    "        Q_inv = np.linalg.inv(self.Q)\n",
    "        R_inv = np.linalg.inv(self.R)\n",
    "        sum_weights = 0\n",
    "        for i in range(n_particles):\n",
    "            f_x1 = self.stateUpdate( self.particle_states[i] )\n",
    "            \n",
    "            mu = self.sig @ (Q_inv @ f_x1 + C.T @ R_inv @ measVector)\n",
    "            \n",
    "            particle = np.random.multivariate_normal(mu,self.sig)\n",
    "            \n",
    "            weight = np.exp( -0.5 * (measVector - self.C @ f_x1).T @ (inv_cov) @ (measVector - self.C @ f_x1) )\n",
    "            self.weights[i] = weight\n",
    "            self.particle_states[i] = particle\n",
    "            sum_weights += weight\n",
    "        self.weights /= sum_weights #normalize weights\n",
    "        \n",
    "    def calcESS(self):\n",
    "        sum_normals = 0\n",
    "        for i in range(n_parcles):\n",
    "            sum_normals += self.weights[i]**2\n",
    "        self.ESS = 1 / sum_normals   \n",
    "        \n",
    "        return self.ESS\n",
    "    def resample(self):\n",
    "        pass\n",
    "    def getEstimate(self):\n",
    "        avg = np.zeros(self.particle_states[0].shape,dtype=np.float32)\n",
    "        for i in range(self.n_particles):\n",
    "            avg += self.weights[i]*self.particle_states[i]\n",
    "        return avg"
   ]
  },
  {
   "cell_type": "code",
   "execution_count": null,
   "id": "64851da3",
   "metadata": {},
   "outputs": [],
   "source": []
  }
 ],
 "metadata": {
  "kernelspec": {
   "display_name": "Python 3 (ipykernel)",
   "language": "python",
   "name": "python3"
  },
  "language_info": {
   "codemirror_mode": {
    "name": "ipython",
    "version": 3
   },
   "file_extension": ".py",
   "mimetype": "text/x-python",
   "name": "python",
   "nbconvert_exporter": "python",
   "pygments_lexer": "ipython3",
   "version": "3.8.10"
  }
 },
 "nbformat": 4,
 "nbformat_minor": 5
}
